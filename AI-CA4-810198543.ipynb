{
 "cells": [
  {
   "cell_type": "markdown",
   "id": "1b64c3e4",
   "metadata": {},
   "source": [
    "# Computer Assignment 4\n",
    "\n",
    "Negar Moradi 810198543"
   ]
  },
  {
   "cell_type": "code",
   "execution_count": 1,
   "id": "b434a905",
   "metadata": {},
   "outputs": [
    {
     "name": "stderr",
     "output_type": "stream",
     "text": [
      "[nltk_data] Downloading package stopwords to\n",
      "[nltk_data]     C:\\Users\\negar\\AppData\\Roaming\\nltk_data...\n",
      "[nltk_data]   Package stopwords is already up-to-date!\n",
      "[nltk_data] Downloading package punkt to\n",
      "[nltk_data]     C:\\Users\\negar\\AppData\\Roaming\\nltk_data...\n",
      "[nltk_data]   Package punkt is already up-to-date!\n"
     ]
    },
    {
     "data": {
      "text/plain": [
       "True"
      ]
     },
     "execution_count": 1,
     "metadata": {},
     "output_type": "execute_result"
    }
   ],
   "source": [
    "import nltk\n",
    "nltk.download('stopwords')\n",
    "nltk.download('punkt')"
   ]
  },
  {
   "cell_type": "code",
   "execution_count": 2,
   "id": "42e99a81",
   "metadata": {},
   "outputs": [],
   "source": [
    "import pandas as pd\n",
    "import numpy as np\n",
    "import matplotlib.pyplot as plt\n",
    "from copy import deepcopy\n",
    "import codecs\n",
    "from sklearn.feature_extraction.text import CountVectorizer\n",
    "from sklearn.metrics import accuracy_score\n",
    "from sklearn.feature_selection import mutual_info_classif\n",
    "import hazm\n",
    "from collections import Counter\n",
    "from nltk.corpus import stopwords\n",
    "from nltk.tokenize import word_tokenize\n",
    "from sklearn.model_selection import train_test_split\n",
    "from sklearn.metrics import plot_confusion_matrix\n",
    "from sklearn.tree import DecisionTreeClassifier\n",
    "from sklearn.ensemble import RandomForestClassifier\n",
    "from sklearn.metrics import ConfusionMatrixDisplay\n",
    "from sklearn.model_selection import GridSearchCV\n",
    "from sklearn.metrics import mean_squared_error"
   ]
  },
  {
   "cell_type": "markdown",
   "id": "ed02184b",
   "metadata": {},
   "source": [
    "## Phase 0: Data Analytics"
   ]
  },
  {
   "cell_type": "code",
   "execution_count": 3,
   "id": "21de4243",
   "metadata": {},
   "outputs": [
    {
     "data": {
      "text/html": [
       "<div>\n",
       "<style scoped>\n",
       "    .dataframe tbody tr th:only-of-type {\n",
       "        vertical-align: middle;\n",
       "    }\n",
       "\n",
       "    .dataframe tbody tr th {\n",
       "        vertical-align: top;\n",
       "    }\n",
       "\n",
       "    .dataframe thead th {\n",
       "        text-align: right;\n",
       "    }\n",
       "</style>\n",
       "<table border=\"1\" class=\"dataframe\">\n",
       "  <thead>\n",
       "    <tr style=\"text-align: right;\">\n",
       "      <th></th>\n",
       "      <th>type</th>\n",
       "      <th>title</th>\n",
       "      <th>cast</th>\n",
       "      <th>country</th>\n",
       "      <th>release_year</th>\n",
       "      <th>listed_in</th>\n",
       "      <th>description</th>\n",
       "    </tr>\n",
       "  </thead>\n",
       "  <tbody>\n",
       "    <tr>\n",
       "      <th>0</th>\n",
       "      <td>Movie</td>\n",
       "      <td>Dick Johnson Is Dead</td>\n",
       "      <td>NaN</td>\n",
       "      <td>United States</td>\n",
       "      <td>2020</td>\n",
       "      <td>Documentaries</td>\n",
       "      <td>As her father nears the end of his life, filmm...</td>\n",
       "    </tr>\n",
       "    <tr>\n",
       "      <th>1</th>\n",
       "      <td>TV Show</td>\n",
       "      <td>Blood &amp; Water</td>\n",
       "      <td>Ama Qamata, Khosi Ngema, Gail Mabalane, Thaban...</td>\n",
       "      <td>South Africa</td>\n",
       "      <td>2021</td>\n",
       "      <td>International TV Shows, TV Dramas, TV Mysteries</td>\n",
       "      <td>After crossing paths at a party, a Cape Town t...</td>\n",
       "    </tr>\n",
       "    <tr>\n",
       "      <th>2</th>\n",
       "      <td>TV Show</td>\n",
       "      <td>Ganglands</td>\n",
       "      <td>Sami Bouajila, Tracy Gotoas, Samuel Jouy, Nabi...</td>\n",
       "      <td>NaN</td>\n",
       "      <td>2021</td>\n",
       "      <td>Crime TV Shows, International TV Shows, TV Act...</td>\n",
       "      <td>To protect his family from a powerful drug lor...</td>\n",
       "    </tr>\n",
       "    <tr>\n",
       "      <th>3</th>\n",
       "      <td>TV Show</td>\n",
       "      <td>Jailbirds New Orleans</td>\n",
       "      <td>NaN</td>\n",
       "      <td>NaN</td>\n",
       "      <td>2021</td>\n",
       "      <td>Docuseries, Reality TV</td>\n",
       "      <td>Feuds, flirtations and toilet talk go down amo...</td>\n",
       "    </tr>\n",
       "    <tr>\n",
       "      <th>4</th>\n",
       "      <td>TV Show</td>\n",
       "      <td>Kota Factory</td>\n",
       "      <td>Mayur More, Jitendra Kumar, Ranjan Raj, Alam K...</td>\n",
       "      <td>India</td>\n",
       "      <td>2021</td>\n",
       "      <td>International TV Shows, Romantic TV Shows, TV ...</td>\n",
       "      <td>In a city of coaching centers known to train I...</td>\n",
       "    </tr>\n",
       "    <tr>\n",
       "      <th>...</th>\n",
       "      <td>...</td>\n",
       "      <td>...</td>\n",
       "      <td>...</td>\n",
       "      <td>...</td>\n",
       "      <td>...</td>\n",
       "      <td>...</td>\n",
       "      <td>...</td>\n",
       "    </tr>\n",
       "    <tr>\n",
       "      <th>11054</th>\n",
       "      <td>TV Show</td>\n",
       "      <td>X-Men: Evolution</td>\n",
       "      <td>Noel Fisher, Vincent Gale, Christopher Judge, ...</td>\n",
       "      <td>United States</td>\n",
       "      <td>2000</td>\n",
       "      <td>Action-Adventure, Animation, Kids</td>\n",
       "      <td>X-Men: Evolution features the team as teenager...</td>\n",
       "    </tr>\n",
       "    <tr>\n",
       "      <th>11055</th>\n",
       "      <td>TV Show</td>\n",
       "      <td>Smart Guy</td>\n",
       "      <td>Tahj Mowry, John Jones, Jason Weaver, Essence ...</td>\n",
       "      <td>United States</td>\n",
       "      <td>1996</td>\n",
       "      <td>Comedy, Coming of Age, Kids</td>\n",
       "      <td>A genius tries to fit in as a high school soph...</td>\n",
       "    </tr>\n",
       "    <tr>\n",
       "      <th>11056</th>\n",
       "      <td>TV Show</td>\n",
       "      <td>Disney Kirby Buckets</td>\n",
       "      <td>Jacob Bertrand, Mekai Curtis, Cade Sutton, Oli...</td>\n",
       "      <td>United States</td>\n",
       "      <td>2014</td>\n",
       "      <td>Action-Adventure, Comedy, Coming of Age</td>\n",
       "      <td>Welcome to Kirby's world! It's rude and sketchy.</td>\n",
       "    </tr>\n",
       "    <tr>\n",
       "      <th>11057</th>\n",
       "      <td>TV Show</td>\n",
       "      <td>Disney Mech-X4</td>\n",
       "      <td>Nathaniel Potvin, Raymond Cham, Kamran Lucas, ...</td>\n",
       "      <td>Canada</td>\n",
       "      <td>2016</td>\n",
       "      <td>Action-Adventure, Comedy, Science Fiction</td>\n",
       "      <td>Ryan discovers his ability to control a giant ...</td>\n",
       "    </tr>\n",
       "    <tr>\n",
       "      <th>11058</th>\n",
       "      <td>TV Show</td>\n",
       "      <td>Imagination Movers</td>\n",
       "      <td>Rich Collins, Dave Poche, Scott Durbin, Scott ...</td>\n",
       "      <td>United States</td>\n",
       "      <td>2008</td>\n",
       "      <td>Kids, Music</td>\n",
       "      <td>Rock out with the Imagination Movers, Disney J...</td>\n",
       "    </tr>\n",
       "  </tbody>\n",
       "</table>\n",
       "<p>11059 rows × 7 columns</p>\n",
       "</div>"
      ],
      "text/plain": [
       "          type                  title  \\\n",
       "0        Movie   Dick Johnson Is Dead   \n",
       "1      TV Show          Blood & Water   \n",
       "2      TV Show              Ganglands   \n",
       "3      TV Show  Jailbirds New Orleans   \n",
       "4      TV Show           Kota Factory   \n",
       "...        ...                    ...   \n",
       "11054  TV Show       X-Men: Evolution   \n",
       "11055  TV Show              Smart Guy   \n",
       "11056  TV Show   Disney Kirby Buckets   \n",
       "11057  TV Show         Disney Mech-X4   \n",
       "11058  TV Show     Imagination Movers   \n",
       "\n",
       "                                                    cast        country  \\\n",
       "0                                                    NaN  United States   \n",
       "1      Ama Qamata, Khosi Ngema, Gail Mabalane, Thaban...   South Africa   \n",
       "2      Sami Bouajila, Tracy Gotoas, Samuel Jouy, Nabi...            NaN   \n",
       "3                                                    NaN            NaN   \n",
       "4      Mayur More, Jitendra Kumar, Ranjan Raj, Alam K...          India   \n",
       "...                                                  ...            ...   \n",
       "11054  Noel Fisher, Vincent Gale, Christopher Judge, ...  United States   \n",
       "11055  Tahj Mowry, John Jones, Jason Weaver, Essence ...  United States   \n",
       "11056  Jacob Bertrand, Mekai Curtis, Cade Sutton, Oli...  United States   \n",
       "11057  Nathaniel Potvin, Raymond Cham, Kamran Lucas, ...         Canada   \n",
       "11058  Rich Collins, Dave Poche, Scott Durbin, Scott ...  United States   \n",
       "\n",
       "       release_year                                          listed_in  \\\n",
       "0              2020                                      Documentaries   \n",
       "1              2021    International TV Shows, TV Dramas, TV Mysteries   \n",
       "2              2021  Crime TV Shows, International TV Shows, TV Act...   \n",
       "3              2021                             Docuseries, Reality TV   \n",
       "4              2021  International TV Shows, Romantic TV Shows, TV ...   \n",
       "...             ...                                                ...   \n",
       "11054          2000                  Action-Adventure, Animation, Kids   \n",
       "11055          1996                        Comedy, Coming of Age, Kids   \n",
       "11056          2014            Action-Adventure, Comedy, Coming of Age   \n",
       "11057          2016          Action-Adventure, Comedy, Science Fiction   \n",
       "11058          2008                                        Kids, Music   \n",
       "\n",
       "                                             description  \n",
       "0      As her father nears the end of his life, filmm...  \n",
       "1      After crossing paths at a party, a Cape Town t...  \n",
       "2      To protect his family from a powerful drug lor...  \n",
       "3      Feuds, flirtations and toilet talk go down amo...  \n",
       "4      In a city of coaching centers known to train I...  \n",
       "...                                                  ...  \n",
       "11054  X-Men: Evolution features the team as teenager...  \n",
       "11055  A genius tries to fit in as a high school soph...  \n",
       "11056   Welcome to Kirby's world! It's rude and sketchy.  \n",
       "11057  Ryan discovers his ability to control a giant ...  \n",
       "11058  Rock out with the Imagination Movers, Disney J...  \n",
       "\n",
       "[11059 rows x 7 columns]"
      ]
     },
     "execution_count": 3,
     "metadata": {},
     "output_type": "execute_result"
    }
   ],
   "source": [
    "train_dt = pd.read_csv(\"dataset.csv\")\n",
    "old_data = deepcopy(train_dt)\n",
    "train_dt\n"
   ]
  },
  {
   "cell_type": "code",
   "execution_count": 4,
   "id": "04b3b351",
   "metadata": {},
   "outputs": [
    {
     "name": "stdout",
     "output_type": "stream",
     "text": [
      "<class 'pandas.core.frame.DataFrame'>\n",
      "RangeIndex: 11059 entries, 0 to 11058\n",
      "Data columns (total 7 columns):\n",
      " #   Column        Non-Null Count  Dtype \n",
      "---  ------        --------------  ----- \n",
      " 0   type          11059 non-null  object\n",
      " 1   title         11059 non-null  object\n",
      " 2   cast          9694 non-null   object\n",
      " 3   country       8364 non-null   object\n",
      " 4   release_year  11059 non-null  int64 \n",
      " 5   listed_in     11059 non-null  object\n",
      " 6   description   11059 non-null  object\n",
      "dtypes: int64(1), object(6)\n",
      "memory usage: 345.7+ KB\n"
     ]
    }
   ],
   "source": [
    "train_dt.info()"
   ]
  },
  {
   "cell_type": "code",
   "execution_count": 5,
   "id": "afb1905a",
   "metadata": {},
   "outputs": [
    {
     "data": {
      "text/html": [
       "<div>\n",
       "<style scoped>\n",
       "    .dataframe tbody tr th:only-of-type {\n",
       "        vertical-align: middle;\n",
       "    }\n",
       "\n",
       "    .dataframe tbody tr th {\n",
       "        vertical-align: top;\n",
       "    }\n",
       "\n",
       "    .dataframe thead th {\n",
       "        text-align: right;\n",
       "    }\n",
       "</style>\n",
       "<table border=\"1\" class=\"dataframe\">\n",
       "  <thead>\n",
       "    <tr style=\"text-align: right;\">\n",
       "      <th></th>\n",
       "      <th>release_year</th>\n",
       "    </tr>\n",
       "  </thead>\n",
       "  <tbody>\n",
       "    <tr>\n",
       "      <th>count</th>\n",
       "      <td>11059.000000</td>\n",
       "    </tr>\n",
       "    <tr>\n",
       "      <th>mean</th>\n",
       "      <td>2014.209603</td>\n",
       "    </tr>\n",
       "    <tr>\n",
       "      <th>std</th>\n",
       "      <td>8.959517</td>\n",
       "    </tr>\n",
       "    <tr>\n",
       "      <th>min</th>\n",
       "      <td>1925.000000</td>\n",
       "    </tr>\n",
       "    <tr>\n",
       "      <th>25%</th>\n",
       "      <td>2013.000000</td>\n",
       "    </tr>\n",
       "    <tr>\n",
       "      <th>50%</th>\n",
       "      <td>2017.000000</td>\n",
       "    </tr>\n",
       "    <tr>\n",
       "      <th>75%</th>\n",
       "      <td>2019.000000</td>\n",
       "    </tr>\n",
       "    <tr>\n",
       "      <th>max</th>\n",
       "      <td>2021.000000</td>\n",
       "    </tr>\n",
       "  </tbody>\n",
       "</table>\n",
       "</div>"
      ],
      "text/plain": [
       "       release_year\n",
       "count  11059.000000\n",
       "mean    2014.209603\n",
       "std        8.959517\n",
       "min     1925.000000\n",
       "25%     2013.000000\n",
       "50%     2017.000000\n",
       "75%     2019.000000\n",
       "max     2021.000000"
      ]
     },
     "execution_count": 5,
     "metadata": {},
     "output_type": "execute_result"
    }
   ],
   "source": [
    "train_dt.describe()"
   ]
  },
  {
   "cell_type": "code",
   "execution_count": 6,
   "id": "0f4b00b6",
   "metadata": {},
   "outputs": [
    {
     "name": "stdout",
     "output_type": "stream",
     "text": [
      "type             0.000000\n",
      "title            0.000000\n",
      "cast            12.342888\n",
      "country         24.369292\n",
      "release_year     0.000000\n",
      "listed_in        0.000000\n",
      "description      0.000000\n",
      "dtype: float64\n"
     ]
    },
    {
     "data": {
      "text/plain": [
       "<AxesSubplot:title={'center':'Missing values'}, ylabel='percent'>"
      ]
     },
     "execution_count": 6,
     "metadata": {},
     "output_type": "execute_result"
    },
    {
     "data": {
      "image/png": "[encoded data removed]",
      "text/plain": [
       "<Figure size 432x288 with 1 Axes>"
      ]
     },
     "metadata": {
      "needs_background": "light"
     },
     "output_type": "display_data"
    }
   ],
   "source": [
    "missing_values = (train_dt.isnull().sum()/len(train_dt))*100\n",
    "print(missing_values)\n",
    "missing_values = missing_values[missing_values != 0]\n",
    "missing_values.plot.bar(color = 'green',title = \"Missing values\", ylabel = \"percent\")"
   ]
  },
  {
   "cell_type": "markdown",
   "id": "d2c929c9",
   "metadata": {},
   "source": [
    "## Phase 1: Preprocessing"
   ]
  },
  {
   "cell_type": "markdown",
   "id": "add1590d",
   "metadata": {},
   "source": [
    "###  1-Ways to handle missing values \n",
    "\n",
    "#### 1. Delete Rows with Missing Values:\n",
    "\n",
    "Missing values can be handled by deleting the rows or columns having null values. If columns have more than half of the rows as null then the entire column can be dropped. The rows which are having one or more columns values as null can also be dropped. <br>\n",
    "###### Pros:\n",
    "    A model trained with the removal of all missing values creates a robust model.\n",
    "\n",
    "###### Cons:\n",
    "    Loss of a lot of information. \n",
    "    Works poorly if the percentage of missing values is excessive in comparison to the complete dataset.\n",
    "\n",
    "\n",
    "\n",
    "#### 2. Impute missing values with Mean/Median:\n",
    "\n",
    "Columns in the dataset which are having numeric continuous values can be replaced with the mean, median, or mode of remaining values in the column. This method can prevent the loss of data compared to the earlier method. Replacing the above two approximations (mean, median) is a statistical approach to handle the missing values. <br>\n",
    "\n",
    "###### Pros:\n",
    "    Prevent data loss which results in deletion of rows or columns. \n",
    "    Works well with a small dataset and is easy to implement. \n",
    "\n",
    "###### Cons:\n",
    "    Works only with numerical continuous variables. \n",
    "    Can cause data leakage. \n",
    "    Do not factor the covariance between features.\n",
    "    \n",
    "#### 3.Imputation method for categorical columns( Impute missing values with he most frequent category):\n",
    "\n",
    "When missing values is from categorical columns (string or numerical) then the missing values can be replaced with the most frequent category. If the number of missing values is very large then it can be replaced with a new category. <br>\n",
    "\n",
    "###### Pros:\n",
    "\n",
    "    Prevent data loss which results in deletion of rows or columns.\n",
    "    Works well with a small dataset and is easy to implement.\n",
    "    Negates the loss of data by adding a unique category.\n",
    "\n",
    "###### Cons:\n",
    "\n",
    "    Works only with categorical variables.\n",
    "    Addition of new features to the model while encoding, which may result in poor performance.\n",
    "\n",
    "We use method 3. Because this method prevent data loss which results in deletion of rows or columns and Works well with a small dataset and is easy to implement. Also we don't need to drop one whole row."
   ]
  },
  {
   "cell_type": "code",
   "execution_count": 7,
   "id": "030a1424",
   "metadata": {},
   "outputs": [
    {
     "name": "stdout",
     "output_type": "stream",
     "text": [
      "                 cast        country\n",
      "0  David Attenborough  United States\n",
      "type            0.0\n",
      "title           0.0\n",
      "cast            0.0\n",
      "country         0.0\n",
      "release_year    0.0\n",
      "listed_in       0.0\n",
      "description     0.0\n",
      "dtype: float64\n"
     ]
    }
   ],
   "source": [
    "nan_col = [\"cast\", \"country\"]\n",
    "print(train_dt[nan_col].mode())\n",
    "train_dt[nan_col]=train_dt[nan_col].fillna(train_dt.mode().iloc[0])\n",
    "\n",
    "missing_values = (train_dt.isnull().sum()/len(train_dt))*100\n",
    "print(missing_values)"
   ]
  },
  {
   "cell_type": "markdown",
   "id": "9683b517",
   "metadata": {},
   "source": [
    "### 2-Normalization & Standardization\n",
    "\n",
    "Normalization typically means rescales the values into a range of [0,1]. Standardization typically means rescales data to have a mean of 0 and a standard deviation of 1 (unit variance). <br> \n",
    "By normalizing a dataset, the values in numeric columns will be converted to a common scale, without distorting differences in ranges of values or losing information.  <br>\n",
    "\n",
    "${Normalization}$ is good to use when you know that the distribution of your data does not follow a Gaussian distribution. This can be useful in algorithms that do not assume any distribution of the data like K-Nearest Neighbors and Neural Networks.<br>\n",
    "${Standardization}$, on the other hand, can be helpful in cases where the data follows a Gaussian distribution. However, this does not have to be necessarily true. Also, unlike normalization, standardization does not have a bounding range. So, even if you have outliers in your data, they will not be affected by standardization. <br>\n",
    "\n",
    "We do not use any of the methods, because the value of our numerical variable is years and we can say that year is also a categorical value.\n"
   ]
  },
  {
   "cell_type": "markdown",
   "id": "f8054340",
   "metadata": {},
   "source": [
    "### 3-Categorical features handling\n",
    "\n",
    "Categorical features are incompatible with many machine learning algorithms. To use them, we have to encode them as numeric values. We can either drop categorical variables or encode them.  \n",
    "\n",
    "###### 1.One-Hot Encoding\n",
    "\n",
    "One-Hot Encoding is the most common, correct way to deal with non-ordinal categorical data. It consists of creating an additional feature for each group of the categorical feature and mark each observation belonging (Value=1) or not (Value=0) to that group. <br>\n",
    "    \n",
    "###### 2.Target Encoding\n",
    "\n",
    "A lesser known, but very effective way of handling categorical variables, is Target Encoding. It consists of substituting each group in a categorical feature with the average response in the target variable.\n",
    "\n",
    "###### 3.Number encoding\n",
    "\n",
    "We map each category to a number. \n",
    "\n",
    "###### 4.Label Encoders\n",
    "\n",
    "Assigining numbers to each categorical value. <br>\n",
    "\n",
    "###### Label encoders aren't a good option when our categories don't follow any particular order. One Hot Encoding can be used in these cases, but it uses a lot of memory since a new column is added to each new category. We use label encoding."
   ]
  },
  {
   "cell_type": "code",
   "execution_count": 8,
   "id": "e250d9b9",
   "metadata": {},
   "outputs": [
    {
     "data": {
      "text/html": [
       "<div>\n",
       "<style scoped>\n",
       "    .dataframe tbody tr th:only-of-type {\n",
       "        vertical-align: middle;\n",
       "    }\n",
       "\n",
       "    .dataframe tbody tr th {\n",
       "        vertical-align: top;\n",
       "    }\n",
       "\n",
       "    .dataframe thead th {\n",
       "        text-align: right;\n",
       "    }\n",
       "</style>\n",
       "<table border=\"1\" class=\"dataframe\">\n",
       "  <thead>\n",
       "    <tr style=\"text-align: right;\">\n",
       "      <th></th>\n",
       "      <th>type</th>\n",
       "      <th>title</th>\n",
       "      <th>cast</th>\n",
       "      <th>country</th>\n",
       "      <th>release_year</th>\n",
       "      <th>listed_in</th>\n",
       "      <th>description</th>\n",
       "    </tr>\n",
       "  </thead>\n",
       "  <tbody>\n",
       "    <tr>\n",
       "      <th>0</th>\n",
       "      <td>0</td>\n",
       "      <td>Dick Johnson Is Dead</td>\n",
       "      <td>David Attenborough</td>\n",
       "      <td>United States</td>\n",
       "      <td>2020</td>\n",
       "      <td>Documentaries</td>\n",
       "      <td>As her father nears the end of his life, filmm...</td>\n",
       "    </tr>\n",
       "    <tr>\n",
       "      <th>1</th>\n",
       "      <td>1</td>\n",
       "      <td>Blood &amp; Water</td>\n",
       "      <td>Ama Qamata, Khosi Ngema, Gail Mabalane, Thaban...</td>\n",
       "      <td>South Africa</td>\n",
       "      <td>2021</td>\n",
       "      <td>International TV Shows, TV Dramas, TV Mysteries</td>\n",
       "      <td>After crossing paths at a party, a Cape Town t...</td>\n",
       "    </tr>\n",
       "    <tr>\n",
       "      <th>2</th>\n",
       "      <td>1</td>\n",
       "      <td>Ganglands</td>\n",
       "      <td>Sami Bouajila, Tracy Gotoas, Samuel Jouy, Nabi...</td>\n",
       "      <td>United States</td>\n",
       "      <td>2021</td>\n",
       "      <td>Crime TV Shows, International TV Shows, TV Act...</td>\n",
       "      <td>To protect his family from a powerful drug lor...</td>\n",
       "    </tr>\n",
       "    <tr>\n",
       "      <th>3</th>\n",
       "      <td>1</td>\n",
       "      <td>Jailbirds New Orleans</td>\n",
       "      <td>David Attenborough</td>\n",
       "      <td>United States</td>\n",
       "      <td>2021</td>\n",
       "      <td>Docuseries, Reality TV</td>\n",
       "      <td>Feuds, flirtations and toilet talk go down amo...</td>\n",
       "    </tr>\n",
       "    <tr>\n",
       "      <th>4</th>\n",
       "      <td>1</td>\n",
       "      <td>Kota Factory</td>\n",
       "      <td>Mayur More, Jitendra Kumar, Ranjan Raj, Alam K...</td>\n",
       "      <td>India</td>\n",
       "      <td>2021</td>\n",
       "      <td>International TV Shows, Romantic TV Shows, TV ...</td>\n",
       "      <td>In a city of coaching centers known to train I...</td>\n",
       "    </tr>\n",
       "    <tr>\n",
       "      <th>...</th>\n",
       "      <td>...</td>\n",
       "      <td>...</td>\n",
       "      <td>...</td>\n",
       "      <td>...</td>\n",
       "      <td>...</td>\n",
       "      <td>...</td>\n",
       "      <td>...</td>\n",
       "    </tr>\n",
       "    <tr>\n",
       "      <th>11054</th>\n",
       "      <td>1</td>\n",
       "      <td>X-Men: Evolution</td>\n",
       "      <td>Noel Fisher, Vincent Gale, Christopher Judge, ...</td>\n",
       "      <td>United States</td>\n",
       "      <td>2000</td>\n",
       "      <td>Action-Adventure, Animation, Kids</td>\n",
       "      <td>X-Men: Evolution features the team as teenager...</td>\n",
       "    </tr>\n",
       "    <tr>\n",
       "      <th>11055</th>\n",
       "      <td>1</td>\n",
       "      <td>Smart Guy</td>\n",
       "      <td>Tahj Mowry, John Jones, Jason Weaver, Essence ...</td>\n",
       "      <td>United States</td>\n",
       "      <td>1996</td>\n",
       "      <td>Comedy, Coming of Age, Kids</td>\n",
       "      <td>A genius tries to fit in as a high school soph...</td>\n",
       "    </tr>\n",
       "    <tr>\n",
       "      <th>11056</th>\n",
       "      <td>1</td>\n",
       "      <td>Disney Kirby Buckets</td>\n",
       "      <td>Jacob Bertrand, Mekai Curtis, Cade Sutton, Oli...</td>\n",
       "      <td>United States</td>\n",
       "      <td>2014</td>\n",
       "      <td>Action-Adventure, Comedy, Coming of Age</td>\n",
       "      <td>Welcome to Kirby's world! It's rude and sketchy.</td>\n",
       "    </tr>\n",
       "    <tr>\n",
       "      <th>11057</th>\n",
       "      <td>1</td>\n",
       "      <td>Disney Mech-X4</td>\n",
       "      <td>Nathaniel Potvin, Raymond Cham, Kamran Lucas, ...</td>\n",
       "      <td>Canada</td>\n",
       "      <td>2016</td>\n",
       "      <td>Action-Adventure, Comedy, Science Fiction</td>\n",
       "      <td>Ryan discovers his ability to control a giant ...</td>\n",
       "    </tr>\n",
       "    <tr>\n",
       "      <th>11058</th>\n",
       "      <td>1</td>\n",
       "      <td>Imagination Movers</td>\n",
       "      <td>Rich Collins, Dave Poche, Scott Durbin, Scott ...</td>\n",
       "      <td>United States</td>\n",
       "      <td>2008</td>\n",
       "      <td>Kids, Music</td>\n",
       "      <td>Rock out with the Imagination Movers, Disney J...</td>\n",
       "    </tr>\n",
       "  </tbody>\n",
       "</table>\n",
       "<p>11059 rows × 7 columns</p>\n",
       "</div>"
      ],
      "text/plain": [
       "       type                  title  \\\n",
       "0         0   Dick Johnson Is Dead   \n",
       "1         1          Blood & Water   \n",
       "2         1              Ganglands   \n",
       "3         1  Jailbirds New Orleans   \n",
       "4         1           Kota Factory   \n",
       "...     ...                    ...   \n",
       "11054     1       X-Men: Evolution   \n",
       "11055     1              Smart Guy   \n",
       "11056     1   Disney Kirby Buckets   \n",
       "11057     1         Disney Mech-X4   \n",
       "11058     1     Imagination Movers   \n",
       "\n",
       "                                                    cast        country  \\\n",
       "0                                     David Attenborough  United States   \n",
       "1      Ama Qamata, Khosi Ngema, Gail Mabalane, Thaban...   South Africa   \n",
       "2      Sami Bouajila, Tracy Gotoas, Samuel Jouy, Nabi...  United States   \n",
       "3                                     David Attenborough  United States   \n",
       "4      Mayur More, Jitendra Kumar, Ranjan Raj, Alam K...          India   \n",
       "...                                                  ...            ...   \n",
       "11054  Noel Fisher, Vincent Gale, Christopher Judge, ...  United States   \n",
       "11055  Tahj Mowry, John Jones, Jason Weaver, Essence ...  United States   \n",
       "11056  Jacob Bertrand, Mekai Curtis, Cade Sutton, Oli...  United States   \n",
       "11057  Nathaniel Potvin, Raymond Cham, Kamran Lucas, ...         Canada   \n",
       "11058  Rich Collins, Dave Poche, Scott Durbin, Scott ...  United States   \n",
       "\n",
       "       release_year                                          listed_in  \\\n",
       "0              2020                                      Documentaries   \n",
       "1              2021    International TV Shows, TV Dramas, TV Mysteries   \n",
       "2              2021  Crime TV Shows, International TV Shows, TV Act...   \n",
       "3              2021                             Docuseries, Reality TV   \n",
       "4              2021  International TV Shows, Romantic TV Shows, TV ...   \n",
       "...             ...                                                ...   \n",
       "11054          2000                  Action-Adventure, Animation, Kids   \n",
       "11055          1996                        Comedy, Coming of Age, Kids   \n",
       "11056          2014            Action-Adventure, Comedy, Coming of Age   \n",
       "11057          2016          Action-Adventure, Comedy, Science Fiction   \n",
       "11058          2008                                        Kids, Music   \n",
       "\n",
       "                                             description  \n",
       "0      As her father nears the end of his life, filmm...  \n",
       "1      After crossing paths at a party, a Cape Town t...  \n",
       "2      To protect his family from a powerful drug lor...  \n",
       "3      Feuds, flirtations and toilet talk go down amo...  \n",
       "4      In a city of coaching centers known to train I...  \n",
       "...                                                  ...  \n",
       "11054  X-Men: Evolution features the team as teenager...  \n",
       "11055  A genius tries to fit in as a high school soph...  \n",
       "11056   Welcome to Kirby's world! It's rude and sketchy.  \n",
       "11057  Ryan discovers his ability to control a giant ...  \n",
       "11058  Rock out with the Imagination Movers, Disney J...  \n",
       "\n",
       "[11059 rows x 7 columns]"
      ]
     },
     "execution_count": 8,
     "metadata": {},
     "output_type": "execute_result"
    }
   ],
   "source": [
    "from sklearn.preprocessing import *\n",
    "\n",
    "numerical_cols = list(train_dt._get_numeric_data().columns)\n",
    "categorical_cols = list(train_dt.columns)\n",
    "categorical_cols.remove(\"release_year\")\n",
    "categorical_cols.remove(\"description\")\n",
    "categorical_cols.remove(\"title\")\n",
    "categorical_cols\n",
    "\n",
    "\n",
    "categorical_data =  train_dt[categorical_cols].apply(LabelEncoder().fit_transform)\n",
    "categorical_data\n",
    "\n",
    "train_dt['type'] = categorical_data['type']\n",
    "train_dt"
   ]
  },
  {
   "cell_type": "markdown",
   "id": "c0fe8eee",
   "metadata": {},
   "source": [
    "### 4- List values in the dataset\n",
    "\n",
    "The data in this column can be converted to a list, then into columns, and updated based on values."
   ]
  },
  {
   "cell_type": "code",
   "execution_count": 9,
   "id": "b6987a9b",
   "metadata": {},
   "outputs": [
    {
     "data": {
      "text/html": [
       "<div>\n",
       "<style scoped>\n",
       "    .dataframe tbody tr th:only-of-type {\n",
       "        vertical-align: middle;\n",
       "    }\n",
       "\n",
       "    .dataframe tbody tr th {\n",
       "        vertical-align: top;\n",
       "    }\n",
       "\n",
       "    .dataframe thead th {\n",
       "        text-align: right;\n",
       "    }\n",
       "</style>\n",
       "<table border=\"1\" class=\"dataframe\">\n",
       "  <thead>\n",
       "    <tr style=\"text-align: right;\">\n",
       "      <th></th>\n",
       "      <th>type</th>\n",
       "      <th>title</th>\n",
       "      <th>cast</th>\n",
       "      <th>country</th>\n",
       "      <th>release_year</th>\n",
       "      <th>listed_in</th>\n",
       "      <th>description</th>\n",
       "      <th>Mystery</th>\n",
       "      <th>Variety</th>\n",
       "      <th>Military_and_War</th>\n",
       "      <th>...</th>\n",
       "      <th>Dramas</th>\n",
       "      <th>Science_&amp;_Nature_TV</th>\n",
       "      <th>Stand-Up_Comedy</th>\n",
       "      <th>Movies</th>\n",
       "      <th>Faith_&amp;_Spirituality</th>\n",
       "      <th>Historical</th>\n",
       "      <th>Sports</th>\n",
       "      <th>Korean_TV_Shows</th>\n",
       "      <th>Young_Adult_Audience</th>\n",
       "      <th>LGBTQ_Movies</th>\n",
       "    </tr>\n",
       "  </thead>\n",
       "  <tbody>\n",
       "    <tr>\n",
       "      <th>0</th>\n",
       "      <td>0</td>\n",
       "      <td>Dick Johnson Is Dead</td>\n",
       "      <td>David Attenborough</td>\n",
       "      <td>United States</td>\n",
       "      <td>2020</td>\n",
       "      <td>Documentaries</td>\n",
       "      <td>As her father nears the end of his life, filmm...</td>\n",
       "      <td>0</td>\n",
       "      <td>0</td>\n",
       "      <td>0</td>\n",
       "      <td>...</td>\n",
       "      <td>0</td>\n",
       "      <td>0</td>\n",
       "      <td>0</td>\n",
       "      <td>0</td>\n",
       "      <td>0</td>\n",
       "      <td>0</td>\n",
       "      <td>0</td>\n",
       "      <td>0</td>\n",
       "      <td>0</td>\n",
       "      <td>0</td>\n",
       "    </tr>\n",
       "    <tr>\n",
       "      <th>1</th>\n",
       "      <td>1</td>\n",
       "      <td>Blood &amp; Water</td>\n",
       "      <td>Ama Qamata, Khosi Ngema, Gail Mabalane, Thaban...</td>\n",
       "      <td>South Africa</td>\n",
       "      <td>2021</td>\n",
       "      <td>International TV Shows, TV Dramas, TV Mysteries</td>\n",
       "      <td>After crossing paths at a party, a Cape Town t...</td>\n",
       "      <td>0</td>\n",
       "      <td>0</td>\n",
       "      <td>0</td>\n",
       "      <td>...</td>\n",
       "      <td>0</td>\n",
       "      <td>0</td>\n",
       "      <td>0</td>\n",
       "      <td>0</td>\n",
       "      <td>0</td>\n",
       "      <td>0</td>\n",
       "      <td>0</td>\n",
       "      <td>0</td>\n",
       "      <td>0</td>\n",
       "      <td>0</td>\n",
       "    </tr>\n",
       "    <tr>\n",
       "      <th>2</th>\n",
       "      <td>1</td>\n",
       "      <td>Ganglands</td>\n",
       "      <td>Sami Bouajila, Tracy Gotoas, Samuel Jouy, Nabi...</td>\n",
       "      <td>United States</td>\n",
       "      <td>2021</td>\n",
       "      <td>Crime TV Shows, International TV Shows, TV Act...</td>\n",
       "      <td>To protect his family from a powerful drug lor...</td>\n",
       "      <td>0</td>\n",
       "      <td>0</td>\n",
       "      <td>0</td>\n",
       "      <td>...</td>\n",
       "      <td>0</td>\n",
       "      <td>0</td>\n",
       "      <td>0</td>\n",
       "      <td>0</td>\n",
       "      <td>0</td>\n",
       "      <td>0</td>\n",
       "      <td>0</td>\n",
       "      <td>0</td>\n",
       "      <td>0</td>\n",
       "      <td>0</td>\n",
       "    </tr>\n",
       "    <tr>\n",
       "      <th>3</th>\n",
       "      <td>1</td>\n",
       "      <td>Jailbirds New Orleans</td>\n",
       "      <td>David Attenborough</td>\n",
       "      <td>United States</td>\n",
       "      <td>2021</td>\n",
       "      <td>Docuseries, Reality TV</td>\n",
       "      <td>Feuds, flirtations and toilet talk go down amo...</td>\n",
       "      <td>0</td>\n",
       "      <td>0</td>\n",
       "      <td>0</td>\n",
       "      <td>...</td>\n",
       "      <td>0</td>\n",
       "      <td>0</td>\n",
       "      <td>0</td>\n",
       "      <td>0</td>\n",
       "      <td>0</td>\n",
       "      <td>0</td>\n",
       "      <td>0</td>\n",
       "      <td>0</td>\n",
       "      <td>0</td>\n",
       "      <td>0</td>\n",
       "    </tr>\n",
       "    <tr>\n",
       "      <th>4</th>\n",
       "      <td>1</td>\n",
       "      <td>Kota Factory</td>\n",
       "      <td>Mayur More, Jitendra Kumar, Ranjan Raj, Alam K...</td>\n",
       "      <td>India</td>\n",
       "      <td>2021</td>\n",
       "      <td>International TV Shows, Romantic TV Shows, TV ...</td>\n",
       "      <td>In a city of coaching centers known to train I...</td>\n",
       "      <td>0</td>\n",
       "      <td>0</td>\n",
       "      <td>0</td>\n",
       "      <td>...</td>\n",
       "      <td>0</td>\n",
       "      <td>0</td>\n",
       "      <td>0</td>\n",
       "      <td>0</td>\n",
       "      <td>0</td>\n",
       "      <td>0</td>\n",
       "      <td>0</td>\n",
       "      <td>0</td>\n",
       "      <td>0</td>\n",
       "      <td>0</td>\n",
       "    </tr>\n",
       "    <tr>\n",
       "      <th>...</th>\n",
       "      <td>...</td>\n",
       "      <td>...</td>\n",
       "      <td>...</td>\n",
       "      <td>...</td>\n",
       "      <td>...</td>\n",
       "      <td>...</td>\n",
       "      <td>...</td>\n",
       "      <td>...</td>\n",
       "      <td>...</td>\n",
       "      <td>...</td>\n",
       "      <td>...</td>\n",
       "      <td>...</td>\n",
       "      <td>...</td>\n",
       "      <td>...</td>\n",
       "      <td>...</td>\n",
       "      <td>...</td>\n",
       "      <td>...</td>\n",
       "      <td>...</td>\n",
       "      <td>...</td>\n",
       "      <td>...</td>\n",
       "      <td>...</td>\n",
       "    </tr>\n",
       "    <tr>\n",
       "      <th>11054</th>\n",
       "      <td>1</td>\n",
       "      <td>X-Men: Evolution</td>\n",
       "      <td>Noel Fisher, Vincent Gale, Christopher Judge, ...</td>\n",
       "      <td>United States</td>\n",
       "      <td>2000</td>\n",
       "      <td>Action-Adventure, Animation, Kids</td>\n",
       "      <td>X-Men: Evolution features the team as teenager...</td>\n",
       "      <td>0</td>\n",
       "      <td>0</td>\n",
       "      <td>0</td>\n",
       "      <td>...</td>\n",
       "      <td>0</td>\n",
       "      <td>0</td>\n",
       "      <td>0</td>\n",
       "      <td>0</td>\n",
       "      <td>0</td>\n",
       "      <td>0</td>\n",
       "      <td>0</td>\n",
       "      <td>0</td>\n",
       "      <td>0</td>\n",
       "      <td>0</td>\n",
       "    </tr>\n",
       "    <tr>\n",
       "      <th>11055</th>\n",
       "      <td>1</td>\n",
       "      <td>Smart Guy</td>\n",
       "      <td>Tahj Mowry, John Jones, Jason Weaver, Essence ...</td>\n",
       "      <td>United States</td>\n",
       "      <td>1996</td>\n",
       "      <td>Comedy, Coming of Age, Kids</td>\n",
       "      <td>A genius tries to fit in as a high school soph...</td>\n",
       "      <td>0</td>\n",
       "      <td>0</td>\n",
       "      <td>0</td>\n",
       "      <td>...</td>\n",
       "      <td>0</td>\n",
       "      <td>0</td>\n",
       "      <td>0</td>\n",
       "      <td>0</td>\n",
       "      <td>0</td>\n",
       "      <td>0</td>\n",
       "      <td>0</td>\n",
       "      <td>0</td>\n",
       "      <td>0</td>\n",
       "      <td>0</td>\n",
       "    </tr>\n",
       "    <tr>\n",
       "      <th>11056</th>\n",
       "      <td>1</td>\n",
       "      <td>Disney Kirby Buckets</td>\n",
       "      <td>Jacob Bertrand, Mekai Curtis, Cade Sutton, Oli...</td>\n",
       "      <td>United States</td>\n",
       "      <td>2014</td>\n",
       "      <td>Action-Adventure, Comedy, Coming of Age</td>\n",
       "      <td>Welcome to Kirby's world! It's rude and sketchy.</td>\n",
       "      <td>0</td>\n",
       "      <td>0</td>\n",
       "      <td>0</td>\n",
       "      <td>...</td>\n",
       "      <td>0</td>\n",
       "      <td>0</td>\n",
       "      <td>0</td>\n",
       "      <td>0</td>\n",
       "      <td>0</td>\n",
       "      <td>0</td>\n",
       "      <td>0</td>\n",
       "      <td>0</td>\n",
       "      <td>0</td>\n",
       "      <td>0</td>\n",
       "    </tr>\n",
       "    <tr>\n",
       "      <th>11057</th>\n",
       "      <td>1</td>\n",
       "      <td>Disney Mech-X4</td>\n",
       "      <td>Nathaniel Potvin, Raymond Cham, Kamran Lucas, ...</td>\n",
       "      <td>Canada</td>\n",
       "      <td>2016</td>\n",
       "      <td>Action-Adventure, Comedy, Science Fiction</td>\n",
       "      <td>Ryan discovers his ability to control a giant ...</td>\n",
       "      <td>0</td>\n",
       "      <td>0</td>\n",
       "      <td>0</td>\n",
       "      <td>...</td>\n",
       "      <td>0</td>\n",
       "      <td>0</td>\n",
       "      <td>0</td>\n",
       "      <td>0</td>\n",
       "      <td>0</td>\n",
       "      <td>0</td>\n",
       "      <td>0</td>\n",
       "      <td>0</td>\n",
       "      <td>0</td>\n",
       "      <td>0</td>\n",
       "    </tr>\n",
       "    <tr>\n",
       "      <th>11058</th>\n",
       "      <td>1</td>\n",
       "      <td>Imagination Movers</td>\n",
       "      <td>Rich Collins, Dave Poche, Scott Durbin, Scott ...</td>\n",
       "      <td>United States</td>\n",
       "      <td>2008</td>\n",
       "      <td>Kids, Music</td>\n",
       "      <td>Rock out with the Imagination Movers, Disney J...</td>\n",
       "      <td>0</td>\n",
       "      <td>0</td>\n",
       "      <td>0</td>\n",
       "      <td>...</td>\n",
       "      <td>0</td>\n",
       "      <td>0</td>\n",
       "      <td>0</td>\n",
       "      <td>0</td>\n",
       "      <td>0</td>\n",
       "      <td>0</td>\n",
       "      <td>0</td>\n",
       "      <td>0</td>\n",
       "      <td>0</td>\n",
       "      <td>0</td>\n",
       "    </tr>\n",
       "  </tbody>\n",
       "</table>\n",
       "<p>11059 rows × 102 columns</p>\n",
       "</div>"
      ],
      "text/plain": [
       "       type                  title  \\\n",
       "0         0   Dick Johnson Is Dead   \n",
       "1         1          Blood & Water   \n",
       "2         1              Ganglands   \n",
       "3         1  Jailbirds New Orleans   \n",
       "4         1           Kota Factory   \n",
       "...     ...                    ...   \n",
       "11054     1       X-Men: Evolution   \n",
       "11055     1              Smart Guy   \n",
       "11056     1   Disney Kirby Buckets   \n",
       "11057     1         Disney Mech-X4   \n",
       "11058     1     Imagination Movers   \n",
       "\n",
       "                                                    cast        country  \\\n",
       "0                                     David Attenborough  United States   \n",
       "1      Ama Qamata, Khosi Ngema, Gail Mabalane, Thaban...   South Africa   \n",
       "2      Sami Bouajila, Tracy Gotoas, Samuel Jouy, Nabi...  United States   \n",
       "3                                     David Attenborough  United States   \n",
       "4      Mayur More, Jitendra Kumar, Ranjan Raj, Alam K...          India   \n",
       "...                                                  ...            ...   \n",
       "11054  Noel Fisher, Vincent Gale, Christopher Judge, ...  United States   \n",
       "11055  Tahj Mowry, John Jones, Jason Weaver, Essence ...  United States   \n",
       "11056  Jacob Bertrand, Mekai Curtis, Cade Sutton, Oli...  United States   \n",
       "11057  Nathaniel Potvin, Raymond Cham, Kamran Lucas, ...         Canada   \n",
       "11058  Rich Collins, Dave Poche, Scott Durbin, Scott ...  United States   \n",
       "\n",
       "       release_year                                          listed_in  \\\n",
       "0              2020                                      Documentaries   \n",
       "1              2021    International TV Shows, TV Dramas, TV Mysteries   \n",
       "2              2021  Crime TV Shows, International TV Shows, TV Act...   \n",
       "3              2021                             Docuseries, Reality TV   \n",
       "4              2021  International TV Shows, Romantic TV Shows, TV ...   \n",
       "...             ...                                                ...   \n",
       "11054          2000                  Action-Adventure, Animation, Kids   \n",
       "11055          1996                        Comedy, Coming of Age, Kids   \n",
       "11056          2014            Action-Adventure, Comedy, Coming of Age   \n",
       "11057          2016          Action-Adventure, Comedy, Science Fiction   \n",
       "11058          2008                                        Kids, Music   \n",
       "\n",
       "                                             description  Mystery  Variety  \\\n",
       "0      As her father nears the end of his life, filmm...        0        0   \n",
       "1      After crossing paths at a party, a Cape Town t...        0        0   \n",
       "2      To protect his family from a powerful drug lor...        0        0   \n",
       "3      Feuds, flirtations and toilet talk go down amo...        0        0   \n",
       "4      In a city of coaching centers known to train I...        0        0   \n",
       "...                                                  ...      ...      ...   \n",
       "11054  X-Men: Evolution features the team as teenager...        0        0   \n",
       "11055  A genius tries to fit in as a high school soph...        0        0   \n",
       "11056   Welcome to Kirby's world! It's rude and sketchy.        0        0   \n",
       "11057  Ryan discovers his ability to control a giant ...        0        0   \n",
       "11058  Rock out with the Imagination Movers, Disney J...        0        0   \n",
       "\n",
       "       Military_and_War  ...  Dramas  Science_&_Nature_TV  Stand-Up_Comedy  \\\n",
       "0                     0  ...       0                    0                0   \n",
       "1                     0  ...       0                    0                0   \n",
       "2                     0  ...       0                    0                0   \n",
       "3                     0  ...       0                    0                0   \n",
       "4                     0  ...       0                    0                0   \n",
       "...                 ...  ...     ...                  ...              ...   \n",
       "11054                 0  ...       0                    0                0   \n",
       "11055                 0  ...       0                    0                0   \n",
       "11056                 0  ...       0                    0                0   \n",
       "11057                 0  ...       0                    0                0   \n",
       "11058                 0  ...       0                    0                0   \n",
       "\n",
       "       Movies  Faith_&_Spirituality  Historical  Sports  Korean_TV_Shows  \\\n",
       "0           0                     0           0       0                0   \n",
       "1           0                     0           0       0                0   \n",
       "2           0                     0           0       0                0   \n",
       "3           0                     0           0       0                0   \n",
       "4           0                     0           0       0                0   \n",
       "...       ...                   ...         ...     ...              ...   \n",
       "11054       0                     0           0       0                0   \n",
       "11055       0                     0           0       0                0   \n",
       "11056       0                     0           0       0                0   \n",
       "11057       0                     0           0       0                0   \n",
       "11058       0                     0           0       0                0   \n",
       "\n",
       "       Young_Adult_Audience  LGBTQ_Movies  \n",
       "0                         0             0  \n",
       "1                         0             0  \n",
       "2                         0             0  \n",
       "3                         0             0  \n",
       "4                         0             0  \n",
       "...                     ...           ...  \n",
       "11054                     0             0  \n",
       "11055                     0             0  \n",
       "11056                     0             0  \n",
       "11057                     0             0  \n",
       "11058                     0             0  \n",
       "\n",
       "[11059 rows x 102 columns]"
      ]
     },
     "execution_count": 9,
     "metadata": {},
     "output_type": "execute_result"
    }
   ],
   "source": [
    "new_train = deepcopy(train_dt)\n",
    "\n",
    "genre = set()\n",
    "genres = [str.split(', ') for str in new_train['listed_in'].tolist()]\n",
    "\n",
    "genres\n",
    "def genre_is_in_list(list_genre, genre):\n",
    "    for str in list_genre.split(','):\n",
    "        if genre == str.replace(' ', '_'):\n",
    "            return 1\n",
    "    return 0\n",
    "\n",
    "for gnr in genres:\n",
    "    [genre.add(genr.replace(' ', '_')) for genr in gnr]\n",
    "\n",
    "genres_dt = pd.DataFrame(index=new_train.index)\n",
    "for genre in list(genre):\n",
    "    genres_dt[genre] = new_train['listed_in'].apply(lambda list_genre: genre_is_in_list(list_genre, genre))\n",
    "    \n",
    "    \n",
    "train_dt = pd.concat([train_dt, genres_dt], axis = 1).drop_duplicates()\n",
    "train_dt"
   ]
  },
  {
   "cell_type": "markdown",
   "id": "295e6004",
   "metadata": {},
   "source": [
    "### Count vectorizer\n",
    "\n",
    "first we remove stop_words.\n",
    "\n"
   ]
  },
  {
   "cell_type": "code",
   "execution_count": 10,
   "id": "28d40dad",
   "metadata": {},
   "outputs": [
    {
     "name": "stdout",
     "output_type": "stream",
     "text": [
      "for description\n",
      "[('new', 836), ('young', 793), ('life', 776), ('series', 564), ('family', 563), ('one', 517), ('man', 496), ('two', 489), ('friends', 479), ('world', 470), ('must', 463), ('woman', 449), ('find', 449), ('love', 449), ('takes', 368), ('finds', 349), ('help', 344), ('documentary', 339), ('group', 311), ('lives', 295)]\n",
      "for title\n",
      "[('Love', 176), ('2', 130), ('Life', 97), ('World', 93), ('Man', 87), ('Story', 85), ('Christmas', 85), ('Little', 84), ('Time', 73), ('One', 73), ('Last', 73), ('American', 70), ('Day', 69), ('Series', 65), ('Movie', 59), ('Black', 58), ('House', 57), ('New', 56), ('Disney', 56), ('City', 53)]\n",
      "for cast\n",
      "[('David Attenborough', 1386), ('Anupam Kher', 43), ('Shah Rukh Khan', 35), ('Julie Tejwani', 33), ('Naseeruddin Shah', 33), ('Takahiro Sakurai', 33), ('Rupa Bhimani', 31), ('Akshay Kumar', 30), ('Yuki Kaji', 30), ('Om Puri', 30), ('Fred Tatasciore', 29), ('Amitabh Bachchan', 28), ('Tara Strong', 28), ('Vincent Tong', 28), ('Paresh Rawal', 28), ('Boman Irani', 27), ('Rajesh Kava', 26), ('Andrea Libman', 25), ('Kareena Kapoor', 25), ('Tom Kenny', 24)]\n"
     ]
    }
   ],
   "source": [
    "stop_words_s = codecs.open('stop_words_english.txt', encoding='utf-8')\n",
    "stop_words = (stopwords.words('english'))\n",
    "ignore_s = [',','.','!','?','_','-','–','&']\n",
    "\n",
    "words_count = Counter()\n",
    "def most_common_words(column, spi):\n",
    "    for sentence in train_dt[column]:\n",
    "        words = sentence.split(spi)\n",
    "        for w in words:\n",
    "            if w.lower() in stop_words or w.lower() in ignore_s or w.lower() in stop_words_s:\n",
    "                continue\n",
    "            else:\n",
    "                words_count[w] = words_count.get(w, 0) + 1\n",
    "        \n",
    "most_common_words(\"description\",' ')\n",
    "print(\"for description\")\n",
    "print(words_count.most_common(20))\n",
    "words_count.clear()\n",
    "print(\"for title\")\n",
    "most_common_words(\"title\",' ')\n",
    "print(words_count.most_common(20))\n",
    "words_count.clear()\n",
    "print(\"for cast\")\n",
    "most_common_words(\"cast\", ', ')\n",
    "print(words_count.most_common(20))"
   ]
  },
  {
   "cell_type": "code",
   "execution_count": 11,
   "id": "cc86ac0b",
   "metadata": {},
   "outputs": [
    {
     "name": "stdout",
     "output_type": "stream",
     "text": [
      "       action  adventure  adventures  agent  america  american  band  based  \\\n",
      "0           0          0           0      0        0         0     0      0   \n",
      "1           0          0           0      0        0         0     0      0   \n",
      "2           0          0           0      0        0         0     0      0   \n",
      "3           0          0           0      0        0         0     0      0   \n",
      "4           0          0           0      0        0         0     0      0   \n",
      "...       ...        ...         ...    ...      ...       ...   ...    ...   \n",
      "11054       0          0           0      0        0         0     0      0   \n",
      "11055       0          0           0      0        0         0     0      0   \n",
      "11056       0          0           0      0        0         0     0      0   \n",
      "11057       0          0           0      0        0         0     0      0   \n",
      "11058       0          0           0      0        0         0     1      0   \n",
      "\n",
      "       battle  begins  ...  win  winning  woman  women  work  world  year  \\\n",
      "0           0       0  ...    0        0      0      0     0      0     0   \n",
      "1           0       0  ...    0        0      0      0     0      0     0   \n",
      "2           0       0  ...    0        0      0      0     0      0     0   \n",
      "3           0       0  ...    0        0      0      1     0      0     0   \n",
      "4           0       0  ...    0        0      0      0     0      0     0   \n",
      "...       ...     ...  ...  ...      ...    ...    ...   ...    ...   ...   \n",
      "11054       0       0  ...    0        0      0      0     0      1     0   \n",
      "11055       0       0  ...    0        0      0      0     0      0     0   \n",
      "11056       0       0  ...    0        0      0      0     0      1     0   \n",
      "11057       0       0  ...    0        0      0      0     0      0     0   \n",
      "11058       0       0  ...    0        0      0      0     0      0     0   \n",
      "\n",
      "       years  york  young  \n",
      "0          0     0      0  \n",
      "1          0     0      0  \n",
      "2          0     0      0  \n",
      "3          0     0      0  \n",
      "4          0     0      0  \n",
      "...      ...   ...    ...  \n",
      "11054      0     0      0  \n",
      "11055      0     0      0  \n",
      "11056      0     0      0  \n",
      "11057      0     0      0  \n",
      "11058      0     0      0  \n",
      "\n",
      "[11059 rows x 210 columns]\n",
      "       life  love  man  world\n",
      "0         0     0    0      0\n",
      "1         0     0    0      0\n",
      "2         0     0    0      0\n",
      "3         0     0    0      0\n",
      "4         0     0    0      0\n",
      "...     ...   ...  ...    ...\n",
      "11054     0     0    0      0\n",
      "11055     0     0    0      0\n",
      "11056     0     0    0      0\n",
      "11057     0     0    0      0\n",
      "11058     0     0    0      0\n",
      "\n",
      "[11059 rows x 4 columns]\n",
      "       aaron  adam  al  alex  alexander  ali  amy  andrea  andrew  anna  ...  \\\n",
      "0          0     0   0     0          0    0    0       0       0     0  ...   \n",
      "1          0     0   0     0          0    0    0       0       0     0  ...   \n",
      "2          0     0   0     0          0    0    0       0       0     0  ...   \n",
      "3          0     0   0     0          0    0    0       0       0     0  ...   \n",
      "4          0     0   0     0          0    0    0       0       0     0  ...   \n",
      "...      ...   ...  ..   ...        ...  ...  ...     ...     ...   ...  ...   \n",
      "11054      0     0   0     0          0    0    0       0       0     0  ...   \n",
      "11055      0     0   0     0          0    0    0       0       0     0  ...   \n",
      "11056      0     0   0     0          0    0    0       0       0     0  ...   \n",
      "11057      0     0   0     0          0    0    0       0       0     0  ...   \n",
      "11058      0     0   0     0          0    0    0       0       0     0  ...   \n",
      "\n",
      "       tim  tom  tony  van  vincent  wang  william  williams  wilson  young  \n",
      "0        0    0     0    0        0     0        0         0       0      0  \n",
      "1        0    0     0    0        0     0        0         1       0      0  \n",
      "2        0    0     0    1        0     0        0         0       0      0  \n",
      "3        0    0     0    0        0     0        0         0       0      0  \n",
      "4        0    0     0    0        0     0        0         0       0      0  \n",
      "...    ...  ...   ...  ...      ...   ...      ...       ...     ...    ...  \n",
      "11054    0    0     0    0        1     0        0         0       0      0  \n",
      "11055    0    0     0    0        0     0        0         0       0      0  \n",
      "11056    0    0     0    0        0     0        0         0       0      0  \n",
      "11057    0    0     0    0        0     0        0         0       0      0  \n",
      "11058    0    0     0    0        0     0        0         0       0      0  \n",
      "\n",
      "[11059 rows x 111 columns]\n"
     ]
    }
   ],
   "source": [
    "vectorizer = CountVectorizer(min_df = 100, stop_words='english')\n",
    "vectorized = vectorizer.fit_transform(train_dt['description'])\n",
    "vectorizer.get_feature_names_out()\n",
    "vectorized.toarray()\n",
    "count_v_df_d = pd.DataFrame(vectorized.toarray(), index=[i for i in range(len(train_dt['description']))], columns=vectorizer.get_feature_names_out())\n",
    "print(count_v_df_d)\n",
    "train_dt = pd.concat([train_dt, count_v_df_d], axis = 1)\n",
    "\n",
    "vectorizer = CountVectorizer(min_df = 100, stop_words='english')\n",
    "vectorized = vectorizer.fit_transform(train_dt['title'])\n",
    "vectorizer.get_feature_names_out()\n",
    "vectorized.toarray()\n",
    "count_v_df_t = pd.DataFrame(vectorized.toarray(), index=[i for i in range(len(train_dt['title']))], columns=vectorizer.get_feature_names_out())\n",
    "print(count_v_df_t)\n",
    "train_dt = pd.concat([train_dt, count_v_df_t], axis = 1)\n",
    "\n",
    "vectorizer = CountVectorizer(min_df = 100, stop_words='english')\n",
    "vectorized = vectorizer.fit_transform(train_dt['cast'])\n",
    "vectorizer.get_feature_names_out()\n",
    "vectorized.toarray()\n",
    "count_v_df_c = pd.DataFrame(vectorized.toarray(), index=[i for i in range(len(train_dt['cast']))], columns=vectorizer.get_feature_names_out())\n",
    "print(count_v_df_c)\n",
    "train_dt = pd.concat([train_dt, count_v_df_c], axis = 1)"
   ]
  },
  {
   "cell_type": "code",
   "execution_count": 12,
   "id": "c669963b",
   "metadata": {},
   "outputs": [
    {
     "data": {
      "text/html": [
       "<div>\n",
       "<style scoped>\n",
       "    .dataframe tbody tr th:only-of-type {\n",
       "        vertical-align: middle;\n",
       "    }\n",
       "\n",
       "    .dataframe tbody tr th {\n",
       "        vertical-align: top;\n",
       "    }\n",
       "\n",
       "    .dataframe thead th {\n",
       "        text-align: right;\n",
       "    }\n",
       "</style>\n",
       "<table border=\"1\" class=\"dataframe\">\n",
       "  <thead>\n",
       "    <tr style=\"text-align: right;\">\n",
       "      <th></th>\n",
       "      <th>type</th>\n",
       "      <th>title</th>\n",
       "      <th>cast</th>\n",
       "      <th>country</th>\n",
       "      <th>release_year</th>\n",
       "      <th>listed_in</th>\n",
       "      <th>description</th>\n",
       "      <th>Mystery</th>\n",
       "      <th>Variety</th>\n",
       "      <th>Military_and_War</th>\n",
       "      <th>...</th>\n",
       "      <th>tim</th>\n",
       "      <th>tom</th>\n",
       "      <th>tony</th>\n",
       "      <th>van</th>\n",
       "      <th>vincent</th>\n",
       "      <th>wang</th>\n",
       "      <th>william</th>\n",
       "      <th>williams</th>\n",
       "      <th>wilson</th>\n",
       "      <th>young</th>\n",
       "    </tr>\n",
       "  </thead>\n",
       "  <tbody>\n",
       "    <tr>\n",
       "      <th>0</th>\n",
       "      <td>0</td>\n",
       "      <td>Dick Johnson Is Dead</td>\n",
       "      <td>David Attenborough</td>\n",
       "      <td>United States</td>\n",
       "      <td>2020</td>\n",
       "      <td>Documentaries</td>\n",
       "      <td>As her father nears the end of his life, filmm...</td>\n",
       "      <td>0</td>\n",
       "      <td>0</td>\n",
       "      <td>0</td>\n",
       "      <td>...</td>\n",
       "      <td>0</td>\n",
       "      <td>0</td>\n",
       "      <td>0</td>\n",
       "      <td>0</td>\n",
       "      <td>0</td>\n",
       "      <td>0</td>\n",
       "      <td>0</td>\n",
       "      <td>0</td>\n",
       "      <td>0</td>\n",
       "      <td>0</td>\n",
       "    </tr>\n",
       "    <tr>\n",
       "      <th>1</th>\n",
       "      <td>1</td>\n",
       "      <td>Blood &amp; Water</td>\n",
       "      <td>Ama Qamata, Khosi Ngema, Gail Mabalane, Thaban...</td>\n",
       "      <td>South Africa</td>\n",
       "      <td>2021</td>\n",
       "      <td>International TV Shows, TV Dramas, TV Mysteries</td>\n",
       "      <td>After crossing paths at a party, a Cape Town t...</td>\n",
       "      <td>0</td>\n",
       "      <td>0</td>\n",
       "      <td>0</td>\n",
       "      <td>...</td>\n",
       "      <td>0</td>\n",
       "      <td>0</td>\n",
       "      <td>0</td>\n",
       "      <td>0</td>\n",
       "      <td>0</td>\n",
       "      <td>0</td>\n",
       "      <td>0</td>\n",
       "      <td>1</td>\n",
       "      <td>0</td>\n",
       "      <td>0</td>\n",
       "    </tr>\n",
       "    <tr>\n",
       "      <th>2</th>\n",
       "      <td>1</td>\n",
       "      <td>Ganglands</td>\n",
       "      <td>Sami Bouajila, Tracy Gotoas, Samuel Jouy, Nabi...</td>\n",
       "      <td>United States</td>\n",
       "      <td>2021</td>\n",
       "      <td>Crime TV Shows, International TV Shows, TV Act...</td>\n",
       "      <td>To protect his family from a powerful drug lor...</td>\n",
       "      <td>0</td>\n",
       "      <td>0</td>\n",
       "      <td>0</td>\n",
       "      <td>...</td>\n",
       "      <td>0</td>\n",
       "      <td>0</td>\n",
       "      <td>0</td>\n",
       "      <td>1</td>\n",
       "      <td>0</td>\n",
       "      <td>0</td>\n",
       "      <td>0</td>\n",
       "      <td>0</td>\n",
       "      <td>0</td>\n",
       "      <td>0</td>\n",
       "    </tr>\n",
       "    <tr>\n",
       "      <th>3</th>\n",
       "      <td>1</td>\n",
       "      <td>Jailbirds New Orleans</td>\n",
       "      <td>David Attenborough</td>\n",
       "      <td>United States</td>\n",
       "      <td>2021</td>\n",
       "      <td>Docuseries, Reality TV</td>\n",
       "      <td>Feuds, flirtations and toilet talk go down amo...</td>\n",
       "      <td>0</td>\n",
       "      <td>0</td>\n",
       "      <td>0</td>\n",
       "      <td>...</td>\n",
       "      <td>0</td>\n",
       "      <td>0</td>\n",
       "      <td>0</td>\n",
       "      <td>0</td>\n",
       "      <td>0</td>\n",
       "      <td>0</td>\n",
       "      <td>0</td>\n",
       "      <td>0</td>\n",
       "      <td>0</td>\n",
       "      <td>0</td>\n",
       "    </tr>\n",
       "    <tr>\n",
       "      <th>4</th>\n",
       "      <td>1</td>\n",
       "      <td>Kota Factory</td>\n",
       "      <td>Mayur More, Jitendra Kumar, Ranjan Raj, Alam K...</td>\n",
       "      <td>India</td>\n",
       "      <td>2021</td>\n",
       "      <td>International TV Shows, Romantic TV Shows, TV ...</td>\n",
       "      <td>In a city of coaching centers known to train I...</td>\n",
       "      <td>0</td>\n",
       "      <td>0</td>\n",
       "      <td>0</td>\n",
       "      <td>...</td>\n",
       "      <td>0</td>\n",
       "      <td>0</td>\n",
       "      <td>0</td>\n",
       "      <td>0</td>\n",
       "      <td>0</td>\n",
       "      <td>0</td>\n",
       "      <td>0</td>\n",
       "      <td>0</td>\n",
       "      <td>0</td>\n",
       "      <td>0</td>\n",
       "    </tr>\n",
       "    <tr>\n",
       "      <th>...</th>\n",
       "      <td>...</td>\n",
       "      <td>...</td>\n",
       "      <td>...</td>\n",
       "      <td>...</td>\n",
       "      <td>...</td>\n",
       "      <td>...</td>\n",
       "      <td>...</td>\n",
       "      <td>...</td>\n",
       "      <td>...</td>\n",
       "      <td>...</td>\n",
       "      <td>...</td>\n",
       "      <td>...</td>\n",
       "      <td>...</td>\n",
       "      <td>...</td>\n",
       "      <td>...</td>\n",
       "      <td>...</td>\n",
       "      <td>...</td>\n",
       "      <td>...</td>\n",
       "      <td>...</td>\n",
       "      <td>...</td>\n",
       "      <td>...</td>\n",
       "    </tr>\n",
       "    <tr>\n",
       "      <th>11054</th>\n",
       "      <td>1</td>\n",
       "      <td>X-Men: Evolution</td>\n",
       "      <td>Noel Fisher, Vincent Gale, Christopher Judge, ...</td>\n",
       "      <td>United States</td>\n",
       "      <td>2000</td>\n",
       "      <td>Action-Adventure, Animation, Kids</td>\n",
       "      <td>X-Men: Evolution features the team as teenager...</td>\n",
       "      <td>0</td>\n",
       "      <td>0</td>\n",
       "      <td>0</td>\n",
       "      <td>...</td>\n",
       "      <td>0</td>\n",
       "      <td>0</td>\n",
       "      <td>0</td>\n",
       "      <td>0</td>\n",
       "      <td>1</td>\n",
       "      <td>0</td>\n",
       "      <td>0</td>\n",
       "      <td>0</td>\n",
       "      <td>0</td>\n",
       "      <td>0</td>\n",
       "    </tr>\n",
       "    <tr>\n",
       "      <th>11055</th>\n",
       "      <td>1</td>\n",
       "      <td>Smart Guy</td>\n",
       "      <td>Tahj Mowry, John Jones, Jason Weaver, Essence ...</td>\n",
       "      <td>United States</td>\n",
       "      <td>1996</td>\n",
       "      <td>Comedy, Coming of Age, Kids</td>\n",
       "      <td>A genius tries to fit in as a high school soph...</td>\n",
       "      <td>0</td>\n",
       "      <td>0</td>\n",
       "      <td>0</td>\n",
       "      <td>...</td>\n",
       "      <td>0</td>\n",
       "      <td>0</td>\n",
       "      <td>0</td>\n",
       "      <td>0</td>\n",
       "      <td>0</td>\n",
       "      <td>0</td>\n",
       "      <td>0</td>\n",
       "      <td>0</td>\n",
       "      <td>0</td>\n",
       "      <td>0</td>\n",
       "    </tr>\n",
       "    <tr>\n",
       "      <th>11056</th>\n",
       "      <td>1</td>\n",
       "      <td>Disney Kirby Buckets</td>\n",
       "      <td>Jacob Bertrand, Mekai Curtis, Cade Sutton, Oli...</td>\n",
       "      <td>United States</td>\n",
       "      <td>2014</td>\n",
       "      <td>Action-Adventure, Comedy, Coming of Age</td>\n",
       "      <td>Welcome to Kirby's world! It's rude and sketchy.</td>\n",
       "      <td>0</td>\n",
       "      <td>0</td>\n",
       "      <td>0</td>\n",
       "      <td>...</td>\n",
       "      <td>0</td>\n",
       "      <td>0</td>\n",
       "      <td>0</td>\n",
       "      <td>0</td>\n",
       "      <td>0</td>\n",
       "      <td>0</td>\n",
       "      <td>0</td>\n",
       "      <td>0</td>\n",
       "      <td>0</td>\n",
       "      <td>0</td>\n",
       "    </tr>\n",
       "    <tr>\n",
       "      <th>11057</th>\n",
       "      <td>1</td>\n",
       "      <td>Disney Mech-X4</td>\n",
       "      <td>Nathaniel Potvin, Raymond Cham, Kamran Lucas, ...</td>\n",
       "      <td>Canada</td>\n",
       "      <td>2016</td>\n",
       "      <td>Action-Adventure, Comedy, Science Fiction</td>\n",
       "      <td>Ryan discovers his ability to control a giant ...</td>\n",
       "      <td>0</td>\n",
       "      <td>0</td>\n",
       "      <td>0</td>\n",
       "      <td>...</td>\n",
       "      <td>0</td>\n",
       "      <td>0</td>\n",
       "      <td>0</td>\n",
       "      <td>0</td>\n",
       "      <td>0</td>\n",
       "      <td>0</td>\n",
       "      <td>0</td>\n",
       "      <td>0</td>\n",
       "      <td>0</td>\n",
       "      <td>0</td>\n",
       "    </tr>\n",
       "    <tr>\n",
       "      <th>11058</th>\n",
       "      <td>1</td>\n",
       "      <td>Imagination Movers</td>\n",
       "      <td>Rich Collins, Dave Poche, Scott Durbin, Scott ...</td>\n",
       "      <td>United States</td>\n",
       "      <td>2008</td>\n",
       "      <td>Kids, Music</td>\n",
       "      <td>Rock out with the Imagination Movers, Disney J...</td>\n",
       "      <td>0</td>\n",
       "      <td>0</td>\n",
       "      <td>0</td>\n",
       "      <td>...</td>\n",
       "      <td>0</td>\n",
       "      <td>0</td>\n",
       "      <td>0</td>\n",
       "      <td>0</td>\n",
       "      <td>0</td>\n",
       "      <td>0</td>\n",
       "      <td>0</td>\n",
       "      <td>0</td>\n",
       "      <td>0</td>\n",
       "      <td>0</td>\n",
       "    </tr>\n",
       "  </tbody>\n",
       "</table>\n",
       "<p>11059 rows × 427 columns</p>\n",
       "</div>"
      ],
      "text/plain": [
       "       type                  title  \\\n",
       "0         0   Dick Johnson Is Dead   \n",
       "1         1          Blood & Water   \n",
       "2         1              Ganglands   \n",
       "3         1  Jailbirds New Orleans   \n",
       "4         1           Kota Factory   \n",
       "...     ...                    ...   \n",
       "11054     1       X-Men: Evolution   \n",
       "11055     1              Smart Guy   \n",
       "11056     1   Disney Kirby Buckets   \n",
       "11057     1         Disney Mech-X4   \n",
       "11058     1     Imagination Movers   \n",
       "\n",
       "                                                    cast        country  \\\n",
       "0                                     David Attenborough  United States   \n",
       "1      Ama Qamata, Khosi Ngema, Gail Mabalane, Thaban...   South Africa   \n",
       "2      Sami Bouajila, Tracy Gotoas, Samuel Jouy, Nabi...  United States   \n",
       "3                                     David Attenborough  United States   \n",
       "4      Mayur More, Jitendra Kumar, Ranjan Raj, Alam K...          India   \n",
       "...                                                  ...            ...   \n",
       "11054  Noel Fisher, Vincent Gale, Christopher Judge, ...  United States   \n",
       "11055  Tahj Mowry, John Jones, Jason Weaver, Essence ...  United States   \n",
       "11056  Jacob Bertrand, Mekai Curtis, Cade Sutton, Oli...  United States   \n",
       "11057  Nathaniel Potvin, Raymond Cham, Kamran Lucas, ...         Canada   \n",
       "11058  Rich Collins, Dave Poche, Scott Durbin, Scott ...  United States   \n",
       "\n",
       "       release_year                                          listed_in  \\\n",
       "0              2020                                      Documentaries   \n",
       "1              2021    International TV Shows, TV Dramas, TV Mysteries   \n",
       "2              2021  Crime TV Shows, International TV Shows, TV Act...   \n",
       "3              2021                             Docuseries, Reality TV   \n",
       "4              2021  International TV Shows, Romantic TV Shows, TV ...   \n",
       "...             ...                                                ...   \n",
       "11054          2000                  Action-Adventure, Animation, Kids   \n",
       "11055          1996                        Comedy, Coming of Age, Kids   \n",
       "11056          2014            Action-Adventure, Comedy, Coming of Age   \n",
       "11057          2016          Action-Adventure, Comedy, Science Fiction   \n",
       "11058          2008                                        Kids, Music   \n",
       "\n",
       "                                             description  Mystery  Variety  \\\n",
       "0      As her father nears the end of his life, filmm...        0        0   \n",
       "1      After crossing paths at a party, a Cape Town t...        0        0   \n",
       "2      To protect his family from a powerful drug lor...        0        0   \n",
       "3      Feuds, flirtations and toilet talk go down amo...        0        0   \n",
       "4      In a city of coaching centers known to train I...        0        0   \n",
       "...                                                  ...      ...      ...   \n",
       "11054  X-Men: Evolution features the team as teenager...        0        0   \n",
       "11055  A genius tries to fit in as a high school soph...        0        0   \n",
       "11056   Welcome to Kirby's world! It's rude and sketchy.        0        0   \n",
       "11057  Ryan discovers his ability to control a giant ...        0        0   \n",
       "11058  Rock out with the Imagination Movers, Disney J...        0        0   \n",
       "\n",
       "       Military_and_War  ...  tim  tom  tony  van  vincent  wang  william  \\\n",
       "0                     0  ...    0    0     0    0        0     0        0   \n",
       "1                     0  ...    0    0     0    0        0     0        0   \n",
       "2                     0  ...    0    0     0    1        0     0        0   \n",
       "3                     0  ...    0    0     0    0        0     0        0   \n",
       "4                     0  ...    0    0     0    0        0     0        0   \n",
       "...                 ...  ...  ...  ...   ...  ...      ...   ...      ...   \n",
       "11054                 0  ...    0    0     0    0        1     0        0   \n",
       "11055                 0  ...    0    0     0    0        0     0        0   \n",
       "11056                 0  ...    0    0     0    0        0     0        0   \n",
       "11057                 0  ...    0    0     0    0        0     0        0   \n",
       "11058                 0  ...    0    0     0    0        0     0        0   \n",
       "\n",
       "       williams  wilson  young  \n",
       "0             0       0      0  \n",
       "1             1       0      0  \n",
       "2             0       0      0  \n",
       "3             0       0      0  \n",
       "4             0       0      0  \n",
       "...         ...     ...    ...  \n",
       "11054         0       0      0  \n",
       "11055         0       0      0  \n",
       "11056         0       0      0  \n",
       "11057         0       0      0  \n",
       "11058         0       0      0  \n",
       "\n",
       "[11059 rows x 427 columns]"
      ]
     },
     "execution_count": 12,
     "metadata": {},
     "output_type": "execute_result"
    }
   ],
   "source": [
    "train_dt"
   ]
  },
  {
   "cell_type": "markdown",
   "id": "e33a9176",
   "metadata": {},
   "source": [
    "Using the function count vector, we get the most repeated words, and then we get the number of repetitions of each of these words in each line. <br>\n",
    "CountVectorizer is a great tool provided by the scikit-learn library in Python. It is used to transform a given text into a vector on the basis of the frequency (count) of each word that occurs in the entire text. This is helpful when we have multiple such texts, and we wish to convert each word in each text into vectors (for using in further text analysis).<br>\n",
    "It is possible to achieve more accurate results by extracting more features.We must keep in mind that these features do not reduce the accuracy of data, and we should remove outdated information."
   ]
  },
  {
   "cell_type": "markdown",
   "id": "f1a7f00b",
   "metadata": {},
   "source": [
    "### Information gain\n",
    "\n",
    "Information Gain, or IG for short, measures the reduction in entropy or surprise by splitting a dataset according to a given value of a random variable.<br>\n",
    "\n",
    "A larger information gain suggests a lower entropy group or groups of samples, and hence less surprise. <bR>\n",
    "You might recall that information quantifies how surprising an event is in bits. Lower probability events have more information, higher probability events have less information. Entropy quantifies how much information there is in a random variable, or more specifically its probability distribution. A skewed distribution has a low entropy, whereas a distribution where events have equal probability has a larger entropy.<br>\n",
    "\n",
    "In information theory, we like to describe the “surprise” of an event. Low probability events are more surprising therefore have a larger amount of information. Whereas probability distributions where the events are equally likely are more surprising and have larger entropy.<br>\n",
    "    \n",
    "    Skewed Probability Distribution (unsurprising): Low entropy.\n",
    "    Balanced Probability Distribution (surprising): High entropy.\n",
    "\n",
    "We Used mutual_info_classif() (a provided function in scikit_learn) to measure information gains. The result is shown on a plot below.<br>\n",
    "To ensure that our information gains are reliable, we eliminate the 'year_of_release' and 'country' columns, since these are unique fields and cannot help us classify items. We also drop 'title', 'description', 'listed_in', 'cast'."
   ]
  },
  {
   "cell_type": "code",
   "execution_count": 13,
   "id": "2eb4f181",
   "metadata": {},
   "outputs": [],
   "source": [
    "data = train_dt.drop(columns=[ 'listed_in', 'type', 'country','description', 'title', 'cast', 'release_year'], axis = 1)\n",
    "target_data = train_dt['type']\n",
    "informationGains = mutual_info_classif(data, target_data)\n",
    "labels = list(data)\n"
   ]
  },
  {
   "cell_type": "code",
   "execution_count": 14,
   "id": "474f6d07",
   "metadata": {},
   "outputs": [
    {
     "data": {
      "image/png": "[encoded data removed]",
      "text/plain": [
       "<Figure size 864x360 with 1 Axes>"
      ]
     },
     "metadata": {
      "needs_background": "light"
     },
     "output_type": "display_data"
    }
   ],
   "source": [
    "\n",
    "def show_information_gain() :\n",
    "    plt.figure(figsize=(12, 5))\n",
    "    infgain = pd.Series(informationGains)\n",
    "    infgain.index = labels\n",
    "    infgain.sort_values(ascending=False, inplace = True)\n",
    "    infgainc = infgain[:25]\n",
    "    plt.xticks(range(len(infgainc.index)), infgainc.index, rotation=90)\n",
    "    plt.plot(infgainc.values) \n",
    "    plt.xlabel('Features') \n",
    "    plt.ylabel('Gain') \n",
    "    plt.title('Information Gain') \n",
    "    plt.show()\n",
    "    return infgain\n",
    "    \n",
    "informationg = show_information_gain()\n"
   ]
  },
  {
   "cell_type": "markdown",
   "id": "bc3420fa",
   "metadata": {},
   "source": [
    "## Phase 2\n",
    "\n",
    "First we split data with train_test_split() into four chunks: 1- training data. 2- target value for training data. 3- test data. 4- target value for test data. Size of test is 25% of total data. The best test is chosen after we run a series of tests with different parameters."
   ]
  },
  {
   "cell_type": "code",
   "execution_count": 15,
   "id": "5d4dfff8",
   "metadata": {},
   "outputs": [],
   "source": [
    "def values(test_size):\n",
    "    global X_test\n",
    "    global X_train\n",
    "    global Y_test\n",
    "    global Y_train\n",
    "    X_train, X_test, Y_train, Y_test = train_test_split(data, target_data, test_size = test_size, random_state = 0)\n",
    "\n",
    "values(0.25)"
   ]
  },
  {
   "cell_type": "code",
   "execution_count": 16,
   "id": "386d281e",
   "metadata": {},
   "outputs": [
    {
     "name": "stderr",
     "output_type": "stream",
     "text": [
      "c:\\users\\negar\\appdata\\local\\programs\\python\\python38-32\\lib\\site-packages\\sklearn\\utils\\deprecation.py:87: FutureWarning: Function plot_confusion_matrix is deprecated; Function `plot_confusion_matrix` is deprecated in 1.0 and will be removed in 1.2. Use one of the class methods: ConfusionMatrixDisplay.from_predictions or ConfusionMatrixDisplay.from_estimator.\n",
      "  warnings.warn(msg, category=FutureWarning)\n"
     ]
    },
    {
     "data": {
      "image/png": "[encoded data removed]",
      "text/plain": [
       "<Figure size 432x288 with 2 Axes>"
      ]
     },
     "metadata": {
      "needs_background": "light"
     },
     "output_type": "display_data"
    },
    {
     "name": "stdout",
     "output_type": "stream",
     "text": [
      "accuracy is:  90.13\n"
     ]
    }
   ],
   "source": [
    "\n",
    "def detree(max_depth, min_samples_split):\n",
    "#     clf = DecisionTreeClassifier(random_state=0, max_depth=max_depth, min_samples_split=min_samples_split)\n",
    "#     clf.fit(X_train, Y_train)\n",
    "#     TestPredic = clf.predict(X_test)\n",
    "#     TrainPredic = clf.predict(X_train)\n",
    "\n",
    "#     plot_confusion_matrix(clf, X_test, Y_test)  \n",
    "#     plt.show()\n",
    "#     return TrainPredic\n",
    "\n",
    "    clf = DecisionTreeClassifier(max_depth = max_depth, min_samples_split = min_samples_split)\n",
    "    clf.fit(X_train, Y_train)\n",
    "    predicted = clf.predict(X_test)\n",
    "    plot_confusion_matrix(clf, X_test, Y_test)  \n",
    "    plt.show()\n",
    "    accuracy = \"{:.2f}\".format(accuracy_score(Y_test, predicted) * 100)\n",
    "    print(\"accuracy is: \",accuracy)\n",
    "max_depth = 5\n",
    "min_samples_split = 3\n",
    "detree(max_depth, min_samples_split)"
   ]
  },
  {
   "cell_type": "code",
   "execution_count": 17,
   "id": "d2f0c52d",
   "metadata": {},
   "outputs": [
    {
     "name": "stderr",
     "output_type": "stream",
     "text": [
      "c:\\users\\negar\\appdata\\local\\programs\\python\\python38-32\\lib\\site-packages\\sklearn\\utils\\deprecation.py:87: FutureWarning: Function plot_confusion_matrix is deprecated; Function `plot_confusion_matrix` is deprecated in 1.0 and will be removed in 1.2. Use one of the class methods: ConfusionMatrixDisplay.from_predictions or ConfusionMatrixDisplay.from_estimator.\n",
      "  warnings.warn(msg, category=FutureWarning)\n"
     ]
    },
    {
     "data": {
      "image/png": "[encoded data removed]",
      "text/plain": [
       "<Figure size 432x288 with 2 Axes>"
      ]
     },
     "metadata": {
      "needs_background": "light"
     },
     "output_type": "display_data"
    },
    {
     "name": "stdout",
     "output_type": "stream",
     "text": [
      "accuracy is:  98.66\n"
     ]
    }
   ],
   "source": [
    "detree(10, 2)"
   ]
  },
  {
   "cell_type": "code",
   "execution_count": 18,
   "id": "d8a7dc98",
   "metadata": {},
   "outputs": [
    {
     "name": "stderr",
     "output_type": "stream",
     "text": [
      "c:\\users\\negar\\appdata\\local\\programs\\python\\python38-32\\lib\\site-packages\\sklearn\\utils\\deprecation.py:87: FutureWarning: Function plot_confusion_matrix is deprecated; Function `plot_confusion_matrix` is deprecated in 1.0 and will be removed in 1.2. Use one of the class methods: ConfusionMatrixDisplay.from_predictions or ConfusionMatrixDisplay.from_estimator.\n",
      "  warnings.warn(msg, category=FutureWarning)\n"
     ]
    },
    {
     "data": {
      "image/png": "[encoded data removed]",
      "text/plain": [
       "<Figure size 432x288 with 2 Axes>"
      ]
     },
     "metadata": {
      "needs_background": "light"
     },
     "output_type": "display_data"
    },
    {
     "name": "stdout",
     "output_type": "stream",
     "text": [
      "accuracy is:  98.66\n"
     ]
    }
   ],
   "source": [
    "detree(10, 5)"
   ]
  },
  {
   "cell_type": "code",
   "execution_count": 19,
   "id": "b0f88734",
   "metadata": {},
   "outputs": [
    {
     "name": "stderr",
     "output_type": "stream",
     "text": [
      "c:\\users\\negar\\appdata\\local\\programs\\python\\python38-32\\lib\\site-packages\\sklearn\\utils\\deprecation.py:87: FutureWarning: Function plot_confusion_matrix is deprecated; Function `plot_confusion_matrix` is deprecated in 1.0 and will be removed in 1.2. Use one of the class methods: ConfusionMatrixDisplay.from_predictions or ConfusionMatrixDisplay.from_estimator.\n",
      "  warnings.warn(msg, category=FutureWarning)\n"
     ]
    },
    {
     "data": {
      "image/png": "[encoded data removed]",
      "text/plain": [
       "<Figure size 432x288 with 2 Axes>"
      ]
     },
     "metadata": {
      "needs_background": "light"
     },
     "output_type": "display_data"
    },
    {
     "name": "stdout",
     "output_type": "stream",
     "text": [
      "accuracy is:  70.49\n"
     ]
    }
   ],
   "source": [
    "detree(2, 5)"
   ]
  },
  {
   "cell_type": "markdown",
   "id": "ad7da0f1",
   "metadata": {},
   "source": [
    "As you can see increasing max_deep increases the value of TP and TN and decreases the value of FP ."
   ]
  },
  {
   "cell_type": "code",
   "execution_count": 20,
   "id": "6ff32d6b",
   "metadata": {},
   "outputs": [
    {
     "name": "stderr",
     "output_type": "stream",
     "text": [
      "c:\\users\\negar\\appdata\\local\\programs\\python\\python38-32\\lib\\site-packages\\sklearn\\model_selection\\_validation.py:372: FitFailedWarning: \n",
      "150 fits failed out of a total of 600.\n",
      "The score on these train-test partitions for these parameters will be set to nan.\n",
      "If these failures are not expected, you can try to debug them by setting error_score='raise'.\n",
      "\n",
      "Below are more details about the failures:\n",
      "--------------------------------------------------------------------------------\n",
      "150 fits failed with the following error:\n",
      "Traceback (most recent call last):\n",
      "  File \"c:\\users\\negar\\appdata\\local\\programs\\python\\python38-32\\lib\\site-packages\\sklearn\\model_selection\\_validation.py\", line 681, in _fit_and_score\n",
      "    estimator.fit(X_train, y_train, **fit_params)\n",
      "  File \"c:\\users\\negar\\appdata\\local\\programs\\python\\python38-32\\lib\\site-packages\\sklearn\\tree\\_classes.py\", line 937, in fit\n",
      "    super().fit(\n",
      "  File \"c:\\users\\negar\\appdata\\local\\programs\\python\\python38-32\\lib\\site-packages\\sklearn\\tree\\_classes.py\", line 250, in fit\n",
      "    raise ValueError(\n",
      "ValueError: min_samples_split must be an integer greater than 1 or a float in (0.0, 1.0]; got the integer 1\n",
      "\n",
      "  warnings.warn(some_fits_failed_message, FitFailedWarning)\n",
      "c:\\users\\negar\\appdata\\local\\programs\\python\\python38-32\\lib\\site-packages\\sklearn\\model_selection\\_search.py:969: UserWarning: One or more of the test scores are non-finite: [       nan        nan 0.9089707  0.9089707  0.9089707  0.9089707\n",
      " 0.9089707  0.9089707         nan        nan 0.93875087 0.93875087\n",
      " 0.93875087 0.93875087 0.93875087 0.93875087        nan        nan\n",
      " 0.9622617  0.9622617  0.9622617  0.9622617  0.9622617  0.9622617\n",
      "        nan        nan 0.97395716 0.97395716 0.97395716 0.97395716\n",
      " 0.97395716 0.97395716        nan        nan 0.97962374 0.97962374\n",
      " 0.97962374 0.97962374 0.97962374 0.97962374        nan        nan\n",
      " 0.9868581  0.9868581  0.9868581  0.9868581  0.9868581  0.9868581\n",
      "        nan        nan 0.99180135 0.99180135 0.99180135 0.99180135\n",
      " 0.99180135 0.99180135        nan        nan 0.99312752 0.99312752\n",
      " 0.99312752 0.99312752 0.99312752 0.99312752        nan        nan\n",
      " 0.99445369 0.99445369 0.99445369 0.99445369 0.99445369 0.99445369\n",
      "        nan        nan 0.99662404 0.99662404 0.99662404 0.99662404\n",
      " 0.99662404 0.99662404        nan        nan 0.99819146 0.99819146\n",
      " 0.99819146 0.99819146 0.99819146 0.99819146        nan        nan\n",
      " 0.99963834 0.99963834 0.99963834 0.99963834 0.99963834 0.99963834\n",
      "        nan        nan 0.99963834 0.99963834 0.99963834 0.99963834\n",
      " 0.99963834 0.99963834        nan        nan 0.99963834 0.99963834\n",
      " 0.99963834 0.99963834 0.99963834 0.99963834        nan        nan\n",
      " 0.99963834 0.99963834 0.99963834 0.99963834 0.99963834 0.99963834]\n",
      "  warnings.warn(\n"
     ]
    }
   ],
   "source": [
    "param_grid = {\n",
    "    'random_state': [0,20],\n",
    "    'max_depth': range(5,20),\n",
    "    'min_samples_split':np.arange(1, 5)\n",
    "}\n",
    "\n",
    "clf = DecisionTreeClassifier()\n",
    "grid_search = GridSearchCV(estimator = clf, param_grid = param_grid)\n",
    "grid_result = grid_search.fit(X_train, Y_train)\n"
   ]
  },
  {
   "cell_type": "markdown",
   "id": "cfbbe938",
   "metadata": {},
   "source": [
    "Best max_depth and min_samples_spot for our decision tree is 16 and 2."
   ]
  },
  {
   "cell_type": "code",
   "execution_count": 21,
   "id": "84338fc8",
   "metadata": {},
   "outputs": [
    {
     "name": "stdout",
     "output_type": "stream",
     "text": [
      "{'max_depth': 16, 'min_samples_split': 2, 'random_state': 0}\n"
     ]
    }
   ],
   "source": [
    "print(grid_result.best_params_)"
   ]
  },
  {
   "cell_type": "code",
   "execution_count": 22,
   "id": "3b82c59b",
   "metadata": {},
   "outputs": [
    {
     "name": "stderr",
     "output_type": "stream",
     "text": [
      "c:\\users\\negar\\appdata\\local\\programs\\python\\python38-32\\lib\\site-packages\\sklearn\\utils\\deprecation.py:87: FutureWarning: Function plot_confusion_matrix is deprecated; Function `plot_confusion_matrix` is deprecated in 1.0 and will be removed in 1.2. Use one of the class methods: ConfusionMatrixDisplay.from_predictions or ConfusionMatrixDisplay.from_estimator.\n",
      "  warnings.warn(msg, category=FutureWarning)\n"
     ]
    },
    {
     "data": {
      "image/png": "[encoded data removed]",
      "text/plain": [
       "<Figure size 432x288 with 2 Axes>"
      ]
     },
     "metadata": {
      "needs_background": "light"
     },
     "output_type": "display_data"
    },
    {
     "name": "stdout",
     "output_type": "stream",
     "text": [
      "accuracy is:  99.93\n"
     ]
    }
   ],
   "source": [
    "detree(16, 2)"
   ]
  },
  {
   "cell_type": "markdown",
   "id": "e3e7348c",
   "metadata": {},
   "source": [
    "max_depthint, default=None\n",
    "\n",
    "    The maximum depth of the tree. If None, then nodes are expanded until all leaves are pure or until all leaves contain less than min_samples_split samples.\n",
    "min_samples_splitint or float, default=2\n",
    "\n",
    "    The minimum number of samples required to split an internal node:\n",
    "\n",
    "        If int, then consider min_samples_split as the minimum number.\n",
    "        If float, then min_samples_split is a fraction and ceil(min_samples_split * n_samples) are the minimum number of samples for each split.\n",
    " "
   ]
  },
  {
   "cell_type": "markdown",
   "id": "cca9b58b",
   "metadata": {},
   "source": [
    " ###### 1. We splitted the data as 75% train and 25% train"
   ]
  },
  {
   "cell_type": "code",
   "execution_count": 23,
   "id": "cd5557ee",
   "metadata": {},
   "outputs": [
    {
     "name": "stderr",
     "output_type": "stream",
     "text": [
      "c:\\users\\negar\\appdata\\local\\programs\\python\\python38-32\\lib\\site-packages\\sklearn\\utils\\deprecation.py:87: FutureWarning: Function plot_confusion_matrix is deprecated; Function `plot_confusion_matrix` is deprecated in 1.0 and will be removed in 1.2. Use one of the class methods: ConfusionMatrixDisplay.from_predictions or ConfusionMatrixDisplay.from_estimator.\n",
      "  warnings.warn(msg, category=FutureWarning)\n"
     ]
    },
    {
     "data": {
      "image/png": "[encoded data removed]",
      "text/plain": [
       "<Figure size 432x288 with 2 Axes>"
      ]
     },
     "metadata": {
      "needs_background": "light"
     },
     "output_type": "display_data"
    },
    {
     "name": "stdout",
     "output_type": "stream",
     "text": [
      "accuracy is:  96.40\n"
     ]
    }
   ],
   "source": [
    "values(0.02)\n",
    "detree(10, 2)"
   ]
  },
  {
   "cell_type": "code",
   "execution_count": 24,
   "id": "87c5dfcc",
   "metadata": {},
   "outputs": [
    {
     "name": "stderr",
     "output_type": "stream",
     "text": [
      "c:\\users\\negar\\appdata\\local\\programs\\python\\python38-32\\lib\\site-packages\\sklearn\\utils\\deprecation.py:87: FutureWarning: Function plot_confusion_matrix is deprecated; Function `plot_confusion_matrix` is deprecated in 1.0 and will be removed in 1.2. Use one of the class methods: ConfusionMatrixDisplay.from_predictions or ConfusionMatrixDisplay.from_estimator.\n",
      "  warnings.warn(msg, category=FutureWarning)\n"
     ]
    },
    {
     "data": {
      "image/png": "[encoded data removed]",
      "text/plain": [
       "<Figure size 432x288 with 2 Axes>"
      ]
     },
     "metadata": {
      "needs_background": "light"
     },
     "output_type": "display_data"
    },
    {
     "name": "stdout",
     "output_type": "stream",
     "text": [
      "accuracy is:  88.74\n"
     ]
    }
   ],
   "source": [
    "detree(5, 2)"
   ]
  },
  {
   "cell_type": "code",
   "execution_count": 25,
   "id": "0042efc7",
   "metadata": {},
   "outputs": [
    {
     "name": "stderr",
     "output_type": "stream",
     "text": [
      "c:\\users\\negar\\appdata\\local\\programs\\python\\python38-32\\lib\\site-packages\\sklearn\\utils\\deprecation.py:87: FutureWarning: Function plot_confusion_matrix is deprecated; Function `plot_confusion_matrix` is deprecated in 1.0 and will be removed in 1.2. Use one of the class methods: ConfusionMatrixDisplay.from_predictions or ConfusionMatrixDisplay.from_estimator.\n",
      "  warnings.warn(msg, category=FutureWarning)\n"
     ]
    },
    {
     "data": {
      "image/png": "[encoded data removed]",
      "text/plain": [
       "<Figure size 432x288 with 2 Axes>"
      ]
     },
     "metadata": {
      "needs_background": "light"
     },
     "output_type": "display_data"
    },
    {
     "name": "stdout",
     "output_type": "stream",
     "text": [
      "accuracy is:  99.55\n"
     ]
    }
   ],
   "source": [
    "detree(20, 5)"
   ]
  },
  {
   "cell_type": "code",
   "execution_count": 26,
   "id": "f2539c90",
   "metadata": {},
   "outputs": [
    {
     "name": "stdout",
     "output_type": "stream",
     "text": [
      "accuracy is:  99.93\n"
     ]
    }
   ],
   "source": [
    "values(0.25)\n",
    "\n",
    "decision_tree = DecisionTreeClassifier(max_depth = 16, min_samples_split = 2)\n",
    "decision_tree.fit(X_train, Y_train)\n",
    "predicted = (decision_tree.predict(X_test))\n",
    "accuracy = \"{:.2f}\".format(accuracy_score(Y_test, predicted) * 100)\n",
    "print(\"accuracy is: \",accuracy)"
   ]
  },
  {
   "cell_type": "code",
   "execution_count": 27,
   "id": "c13554e4",
   "metadata": {},
   "outputs": [
    {
     "name": "stderr",
     "output_type": "stream",
     "text": [
      "c:\\users\\negar\\appdata\\local\\programs\\python\\python38-32\\lib\\site-packages\\sklearn\\utils\\deprecation.py:87: FutureWarning: Function plot_confusion_matrix is deprecated; Function `plot_confusion_matrix` is deprecated in 1.0 and will be removed in 1.2. Use one of the class methods: ConfusionMatrixDisplay.from_predictions or ConfusionMatrixDisplay.from_estimator.\n",
      "  warnings.warn(msg, category=FutureWarning)\n"
     ]
    },
    {
     "data": {
      "image/png": "[encoded data removed]",
      "text/plain": [
       "<Figure size 432x288 with 2 Axes>"
      ]
     },
     "metadata": {
      "needs_background": "light"
     },
     "output_type": "display_data"
    },
    {
     "name": "stdout",
     "output_type": "stream",
     "text": [
      "accuracy is:  99.95\n"
     ]
    }
   ],
   "source": [
    "values(0.4)\n",
    "detree(16, 2)"
   ]
  },
  {
   "cell_type": "markdown",
   "id": "812571f0",
   "metadata": {},
   "source": [
    "We chose the best parameter after testing a variety of them and set 75 percent of the data as train and the rest as test.<br>\n",
    "We use sklearn.metrics.plot_confusion_matrix to plot confusion matrix.<br>\n",
    "A confusion matrix is a table that is often used to describe the performance of a classification model (or \"classifier\") on a set of test data for which the true values are known. The confusion matrix itself is relatively simple to understand, but the related terminology can be confusing.<br>\n",
    "Our model is less accurate with small size data. <br>"
   ]
  },
  {
   "cell_type": "code",
   "execution_count": 28,
   "id": "12ad5f5d",
   "metadata": {},
   "outputs": [
    {
     "data": {
      "image/png": "[encoded data removed]",
      "text/plain": [
       "<Figure size 432x288 with 1 Axes>"
      ]
     },
     "metadata": {
      "needs_background": "light"
     },
     "output_type": "display_data"
    },
    {
     "data": {
      "image/png": "[encoded data removed]",
      "text/plain": [
       "<Figure size 432x288 with 1 Axes>"
      ]
     },
     "metadata": {
      "needs_background": "light"
     },
     "output_type": "display_data"
    },
    {
     "name": "stderr",
     "output_type": "stream",
     "text": [
      "c:\\users\\negar\\appdata\\local\\programs\\python\\python38-32\\lib\\site-packages\\sklearn\\utils\\deprecation.py:87: FutureWarning: Function plot_confusion_matrix is deprecated; Function `plot_confusion_matrix` is deprecated in 1.0 and will be removed in 1.2. Use one of the class methods: ConfusionMatrixDisplay.from_predictions or ConfusionMatrixDisplay.from_estimator.\n",
      "  warnings.warn(msg, category=FutureWarning)\n"
     ]
    },
    {
     "data": {
      "image/png": "[encoded data removed]",
      "text/plain": [
       "<Figure size 432x288 with 2 Axes>"
      ]
     },
     "metadata": {
      "needs_background": "light"
     },
     "output_type": "display_data"
    },
    {
     "name": "stdout",
     "output_type": "stream",
     "text": [
      "accuracy is:  93.29\n"
     ]
    }
   ],
   "source": [
    "def dtree(max_depth, min_samples_split):\n",
    "    n = [i for i in range(1, max_depth)]\n",
    "    accur = [0]*(max_depth-1)\n",
    "    error= [0]*(max_depth-1)\n",
    "    errort = [0]*(max_depth-1)\n",
    "\n",
    "    for i in range(len(n)):\n",
    "        decision_tree = DecisionTreeClassifier(max_depth = n[i], min_samples_split = min_samples_split)\n",
    "        decision_tree.fit(X_train, Y_train)\n",
    "        predicted = decision_tree.predict(X_test)\n",
    "        trainp = decision_tree.predict(X_train)\n",
    "        accur[i] = \"{:.2f}\".format(accuracy_score(Y_test, predicted) * 100)\n",
    "        error[i] = 100 - float(accur[i])\n",
    "        errort[i] = 100 - float(\"{:.2f}\".format(accuracy_score(Y_train, trainp) * 100))\n",
    "        \n",
    "    plt.plot(n,error)\n",
    "    plt.xlabel(\"n\")\n",
    "    plt.ylabel(\"error\")\n",
    "    plt.title(\"test\")\n",
    "    plt.show()\n",
    "    \n",
    "    plt.plot(n,errort)\n",
    "    plt.xlabel(\"n\")\n",
    "    plt.ylabel(\"error\")\n",
    "    plt.title(\"train\")\n",
    "    plt.show()\n",
    "    \n",
    "dtree(6, 2)\n",
    "detree(6, 2)"
   ]
  },
  {
   "cell_type": "code",
   "execution_count": 29,
   "id": "4ebfb840",
   "metadata": {},
   "outputs": [
    {
     "data": {
      "image/png": "[encoded data removed]",
      "text/plain": [
       "<Figure size 432x288 with 1 Axes>"
      ]
     },
     "metadata": {
      "needs_background": "light"
     },
     "output_type": "display_data"
    },
    {
     "data": {
      "image/png": "[encoded data removed]",
      "text/plain": [
       "<Figure size 432x288 with 1 Axes>"
      ]
     },
     "metadata": {
      "needs_background": "light"
     },
     "output_type": "display_data"
    },
    {
     "name": "stderr",
     "output_type": "stream",
     "text": [
      "c:\\users\\negar\\appdata\\local\\programs\\python\\python38-32\\lib\\site-packages\\sklearn\\utils\\deprecation.py:87: FutureWarning: Function plot_confusion_matrix is deprecated; Function `plot_confusion_matrix` is deprecated in 1.0 and will be removed in 1.2. Use one of the class methods: ConfusionMatrixDisplay.from_predictions or ConfusionMatrixDisplay.from_estimator.\n",
      "  warnings.warn(msg, category=FutureWarning)\n"
     ]
    },
    {
     "data": {
      "image/png": "[encoded data removed]",
      "text/plain": [
       "<Figure size 432x288 with 2 Axes>"
      ]
     },
     "metadata": {
      "needs_background": "light"
     },
     "output_type": "display_data"
    },
    {
     "name": "stdout",
     "output_type": "stream",
     "text": [
      "accuracy is:  84.99\n"
     ]
    }
   ],
   "source": [
    "dtree(4, 2)\n",
    "detree(4, 2)"
   ]
  },
  {
   "cell_type": "code",
   "execution_count": 30,
   "id": "18d70860",
   "metadata": {},
   "outputs": [
    {
     "data": {
      "image/png": "[encoded data removed]",
      "text/plain": [
       "<Figure size 432x288 with 1 Axes>"
      ]
     },
     "metadata": {
      "needs_background": "light"
     },
     "output_type": "display_data"
    },
    {
     "data": {
      "image/png": "[encoded data removed]",
      "text/plain": [
       "<Figure size 432x288 with 1 Axes>"
      ]
     },
     "metadata": {
      "needs_background": "light"
     },
     "output_type": "display_data"
    },
    {
     "name": "stderr",
     "output_type": "stream",
     "text": [
      "c:\\users\\negar\\appdata\\local\\programs\\python\\python38-32\\lib\\site-packages\\sklearn\\utils\\deprecation.py:87: FutureWarning: Function plot_confusion_matrix is deprecated; Function `plot_confusion_matrix` is deprecated in 1.0 and will be removed in 1.2. Use one of the class methods: ConfusionMatrixDisplay.from_predictions or ConfusionMatrixDisplay.from_estimator.\n",
      "  warnings.warn(msg, category=FutureWarning)\n"
     ]
    },
    {
     "data": {
      "image/png": "[encoded data removed]",
      "text/plain": [
       "<Figure size 432x288 with 2 Axes>"
      ]
     },
     "metadata": {
      "needs_background": "light"
     },
     "output_type": "display_data"
    },
    {
     "name": "stdout",
     "output_type": "stream",
     "text": [
      "accuracy is:  99.98\n"
     ]
    }
   ],
   "source": [
    "dtree(50, 2)\n",
    "detree(50, 2)"
   ]
  },
  {
   "cell_type": "markdown",
   "id": "cb268582",
   "metadata": {},
   "source": [
    "Overfitting may occur with a model that has a large maximum depth. <br>\n",
    "When a model performs well on the training data but not on the evaluation data, it is overfitting. This is a result of the model memorizing the data it has already seen and not being able to generalize to unseen examples.  <br>\n",
    "Underfitting occurs when a model is not able to perform well on the training data. The model cannot account for the relationship between the features and the target values.  "
   ]
  },
  {
   "cell_type": "markdown",
   "id": "59f0a861",
   "metadata": {},
   "source": [
    "## Phase 3\n",
    "\n",
    "#### Random forest\n",
    "\n",
    "n_estimatorsint, default=100\n",
    "\n",
    "    The number of trees in the forest.\n",
    "    Changed in version 0.22: The default value of n_estimators changed from 10 to 100 in 0.22.\n",
    "    \n",
    "criterion{“gini”, “entropy”}, default=”gini”\n",
    "\n",
    "    The function to measure the quality of a split. Supported criteria are “gini” for the Gini impurity and “entropy” for the information gain. Note: this parameter is tree-specific.\n",
    "    \n",
    "max_depthint, default=None\n",
    "\n",
    "    The maximum depth of the tree. If None, then nodes are expanded until all leaves are pure or until all leaves contain less than min_samples_split samples.\n",
    "    \n",
    "min_samples_splitint or float, default=2\n",
    "\n",
    "    The minimum number of samples required to split an internal node:\n",
    "\n",
    "        If int, then consider min_samples_split as the minimum number.\n",
    "\n",
    "        If float, then min_samples_split is a fraction and ceil(min_samples_split * n_samples) are the minimum number of samples for each split.\n",
    "\n",
    "Max depth: Best max depth for this random forest is for d = 4 and for big numbers, it causes overfitting.\n"
   ]
  },
  {
   "cell_type": "code",
   "execution_count": 31,
   "id": "5e8d31de",
   "metadata": {},
   "outputs": [
    {
     "name": "stderr",
     "output_type": "stream",
     "text": [
      "c:\\users\\negar\\appdata\\local\\programs\\python\\python38-32\\lib\\site-packages\\sklearn\\utils\\deprecation.py:87: FutureWarning: Function plot_confusion_matrix is deprecated; Function `plot_confusion_matrix` is deprecated in 1.0 and will be removed in 1.2. Use one of the class methods: ConfusionMatrixDisplay.from_predictions or ConfusionMatrixDisplay.from_estimator.\n",
      "  warnings.warn(msg, category=FutureWarning)\n"
     ]
    },
    {
     "data": {
      "image/png": "[encoded data removed]",
      "text/plain": [
       "<Figure size 432x288 with 2 Axes>"
      ]
     },
     "metadata": {
      "needs_background": "light"
     },
     "output_type": "display_data"
    },
    {
     "name": "stdout",
     "output_type": "stream",
     "text": [
      "accuracy is: 83.07\n"
     ]
    },
    {
     "name": "stderr",
     "output_type": "stream",
     "text": [
      "c:\\users\\negar\\appdata\\local\\programs\\python\\python38-32\\lib\\site-packages\\sklearn\\utils\\deprecation.py:87: FutureWarning: Function plot_confusion_matrix is deprecated; Function `plot_confusion_matrix` is deprecated in 1.0 and will be removed in 1.2. Use one of the class methods: ConfusionMatrixDisplay.from_predictions or ConfusionMatrixDisplay.from_estimator.\n",
      "  warnings.warn(msg, category=FutureWarning)\n"
     ]
    },
    {
     "data": {
      "image/png": "[encoded data removed]",
      "text/plain": [
       "<Figure size 432x288 with 2 Axes>"
      ]
     },
     "metadata": {
      "needs_background": "light"
     },
     "output_type": "display_data"
    },
    {
     "name": "stdout",
     "output_type": "stream",
     "text": [
      "accuracy is: 94.00\n"
     ]
    },
    {
     "name": "stderr",
     "output_type": "stream",
     "text": [
      "c:\\users\\negar\\appdata\\local\\programs\\python\\python38-32\\lib\\site-packages\\sklearn\\utils\\deprecation.py:87: FutureWarning: Function plot_confusion_matrix is deprecated; Function `plot_confusion_matrix` is deprecated in 1.0 and will be removed in 1.2. Use one of the class methods: ConfusionMatrixDisplay.from_predictions or ConfusionMatrixDisplay.from_estimator.\n",
      "  warnings.warn(msg, category=FutureWarning)\n"
     ]
    },
    {
     "data": {
      "image/png": "[encoded data removed]",
      "text/plain": [
       "<Figure size 432x288 with 2 Axes>"
      ]
     },
     "metadata": {
      "needs_background": "light"
     },
     "output_type": "display_data"
    },
    {
     "name": "stdout",
     "output_type": "stream",
     "text": [
      "accuracy is: 97.22\n"
     ]
    }
   ],
   "source": [
    "values(0.25)\n",
    "def Randomforest(n_estimators, max_depth):\n",
    "    clf = RandomForestClassifier(max_depth = max_depth, random_state=0, n_estimators=n_estimators)\n",
    "    clf.fit(X_train, Y_train)\n",
    "    predicted = clf.predict(X_test)\n",
    "    plot_confusion_matrix(clf, X_test, Y_test)  \n",
    "    plt.show()\n",
    "    accuracy = \"{:.2f}\".format(accuracy_score(Y_test, predicted) * 100)\n",
    "    print(\"accuracy is:\", accuracy)\n",
    "    \n",
    "Randomforest(5, 10)\n",
    "Randomforest(5, 20)\n",
    "Randomforest(20, 10)"
   ]
  },
  {
   "cell_type": "code",
   "execution_count": 36,
   "id": "06217f6b",
   "metadata": {
    "scrolled": true
   },
   "outputs": [
    {
     "name": "stdout",
     "output_type": "stream",
     "text": [
      "{'max_depth': 25, 'n_estimators': 200}\n"
     ]
    }
   ],
   "source": [
    "param_grid = {\n",
    "    'max_depth': [10, 15, 20, 25],\n",
    "    'n_estimators':[50, 100, 200, 300]\n",
    "}\n",
    "\n",
    "clf = RandomForestClassifier()\n",
    "grid_search = GridSearchCV(estimator = clf, param_grid = param_grid)\n",
    "grid_result = grid_search.fit(X_train, Y_train)\n",
    "print(grid_result.best_params_)"
   ]
  },
  {
   "cell_type": "markdown",
   "id": "44639d4f",
   "metadata": {},
   "source": [
    "Best max_depth and n_estimators for our Random forest is 25 and 200."
   ]
  },
  {
   "cell_type": "code",
   "execution_count": 37,
   "id": "c7d273f1",
   "metadata": {},
   "outputs": [
    {
     "name": "stderr",
     "output_type": "stream",
     "text": [
      "c:\\users\\negar\\appdata\\local\\programs\\python\\python38-32\\lib\\site-packages\\sklearn\\utils\\deprecation.py:87: FutureWarning: Function plot_confusion_matrix is deprecated; Function `plot_confusion_matrix` is deprecated in 1.0 and will be removed in 1.2. Use one of the class methods: ConfusionMatrixDisplay.from_predictions or ConfusionMatrixDisplay.from_estimator.\n",
      "  warnings.warn(msg, category=FutureWarning)\n"
     ]
    },
    {
     "data": {
      "image/png": "[encoded data removed]",
      "text/plain": [
       "<Figure size 432x288 with 2 Axes>"
      ]
     },
     "metadata": {
      "needs_background": "light"
     },
     "output_type": "display_data"
    },
    {
     "name": "stdout",
     "output_type": "stream",
     "text": [
      "accuracy is: 99.17\n"
     ]
    }
   ],
   "source": [
    "Randomforest(200, 25)"
   ]
  },
  {
   "cell_type": "code",
   "execution_count": 38,
   "id": "72a5cb4e",
   "metadata": {},
   "outputs": [],
   "source": [
    "max_depth = [2, 10, 15, 20, 25]\n",
    "n_estimators = [5, 50, 100, 200, 300]\n",
    "accur = []\n",
    "depth = []\n",
    "ns = []\n",
    "\n",
    "for d in max_depth:\n",
    "    for n in n_estimators:\n",
    "        clf = RandomForestClassifier(max_depth = d, random_state=0, n_estimators=n)\n",
    "        clf.fit(X_train, Y_train)\n",
    "        predicted = clf.predict(X_test)\n",
    "        accuracy = \"{:.2f}\".format(accuracy_score(Y_test, predicted) * 100)\n",
    "        accur.append(accuracy)\n",
    "        ns.append(n)\n",
    "        depth.append(d)"
   ]
  },
  {
   "cell_type": "code",
   "execution_count": 39,
   "id": "4a1df616",
   "metadata": {},
   "outputs": [
    {
     "data": {
      "image/png": "[encoded data removed]",
      "text/plain": [
       "<Figure size 1440x1440 with 2 Axes>"
      ]
     },
     "metadata": {
      "needs_background": "light"
     },
     "output_type": "display_data"
    }
   ],
   "source": [
    "from mpl_toolkits.mplot3d import Axes3D\n",
    "accur = [round(float(a)) for a in accur]\n",
    "\n",
    "fig = plt.figure(figsize=(20, 20))\n",
    "plt.title(\"Random Forest Accuracy\")\n",
    "plt.ylabel(\"max_Depth\")\n",
    "plt.xlabel(\"n_etimators\")\n",
    "coll = plt.scatter(ns, depth,\n",
    "           linewidths=1, alpha=.7,\n",
    "           edgecolor='k',\n",
    "           s = 200,\n",
    "           c=accur)\n",
    "plt.colorbar(coll)\n",
    "plt.show()"
   ]
  },
  {
   "cell_type": "markdown",
   "id": "e7ea3007",
   "metadata": {},
   "source": [
    "${Bias}$ is the difference between the average prediction of our model and the correct value which we are trying to predict. Model with high bias pays very little attention to the training data and oversimplifies the model. It always leads to high error on training and test data. <br>\n",
    "${Variance}$ is the variability of model prediction for a given data point or a value which tells us spread of our data. Model with high variance pays a lot of attention to training data and does not generalize on the data which it hasn’t seen before. As a result, such models perform very well on training data but has high error rates on test data.<br>\n",
    "Random Forest model creates some decision tree models with a max depth from random records and predicts the value, then chooses the average of these values as the answer. This model results in less bias because it uses multiple trees trained on different parts of data.<br>\n",
    "A decision tree has a very low bias since it overfits to the training data to the maximum possible extent. As a result, random forest usually achieves low bias. On the other hand, random forests employ several techniques to reduce variance in predictions while maintaining the characteristics of the lone Decision Tree. To do this, it combines a number of weakly correlated (if not completely uncorrelated) trees.  <br>\n",
    "\n",
    "###### Therefore, random forest is a better model."
   ]
  }
 ],
 "metadata": {
  "kernelspec": {
   "display_name": "Python 3 (ipykernel)",
   "language": "python",
   "name": "python3"
  },
  "language_info": {
   "codemirror_mode": {
    "name": "ipython",
    "version": 3
   },
   "file_extension": ".py",
   "mimetype": "text/x-python",
   "name": "python",
   "nbconvert_exporter": "python",
   "pygments_lexer": "ipython3",
   "version": "3.8.5"
  }
 },
 "nbformat": 4,
 "nbformat_minor": 5
}
